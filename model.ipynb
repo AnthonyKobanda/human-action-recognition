{
 "cells": [
  {
   "cell_type": "markdown",
   "metadata": {},
   "source": [
    "# **RNN (LSTM) Model for Human Action Recognition**"
   ]
  },
  {
   "cell_type": "markdown",
   "metadata": {},
   "source": [
    "___\n",
    "___"
   ]
  },
  {
   "cell_type": "markdown",
   "metadata": {},
   "source": [
    "## **1. INITIALIZATION**"
   ]
  },
  {
   "cell_type": "markdown",
   "metadata": {},
   "source": [
    "### *1.1. IMPORTS*"
   ]
  },
  {
   "cell_type": "code",
   "execution_count": 2,
   "metadata": {},
   "outputs": [],
   "source": [
    "import matplotlib.pyplot as plt\n",
    "import numpy as np\n",
    "import os\n",
    "import seaborn as sns\n",
    "import time\n",
    "\n",
    "from torch.utils.data import Dataset, DataLoader\n",
    "from torchvision import transforms, utils\n",
    "\n",
    "import torch\n",
    "import torch.nn as nn"
   ]
  },
  {
   "cell_type": "markdown",
   "metadata": {},
   "source": [
    "To fill the [**requirement.txt**](../requirement.txt) file we use the following line of code:"
   ]
  },
  {
   "cell_type": "code",
   "execution_count": 3,
   "metadata": {},
   "outputs": [
    {
     "data": {
      "text/html": [
       "<details>\n",
       "<summary>Click to view session information</summary>\n",
       "<pre>\n",
       "-----\n",
       "matplotlib          3.4.3\n",
       "numpy               1.21.3\n",
       "pandas              1.3.4\n",
       "seaborn             0.11.2\n",
       "session_info        1.0.0\n",
       "sklearn             1.0.1\n",
       "torch               1.10.0+cu102\n",
       "torchvision         0.11.1+cu102\n",
       "tqdm                4.62.3\n",
       "-----\n",
       "</pre>\n",
       "<details>\n",
       "<summary>Click to view modules imported as dependencies</summary>\n",
       "<pre>\n",
       "PIL                         8.4.0\n",
       "astunparse                  1.6.3\n",
       "backcall                    0.2.0\n",
       "beta_ufunc                  NA\n",
       "binom_ufunc                 NA\n",
       "cffi                        1.15.0\n",
       "colorama                    0.4.4\n",
       "cycler                      0.10.0\n",
       "cython_runtime              NA\n",
       "dateutil                    2.8.2\n",
       "debugpy                     1.4.3\n",
       "decorator                   5.1.0\n",
       "defusedxml                  0.7.1\n",
       "entrypoints                 0.3\n",
       "google                      NA\n",
       "ipykernel                   6.4.1\n",
       "ipython_genutils            0.2.0\n",
       "ipywidgets                  7.6.5\n",
       "jedi                        0.18.0\n",
       "joblib                      1.1.0\n",
       "kiwisolver                  1.3.2\n",
       "matplotlib_inline           NA\n",
       "mpl_toolkits                NA\n",
       "nbinom_ufunc                NA\n",
       "nt                          NA\n",
       "ntsecuritycon               NA\n",
       "parso                       0.8.2\n",
       "pickleshare                 0.7.5\n",
       "pkg_resources               NA\n",
       "prompt_toolkit              3.0.20\n",
       "psutil                      5.8.0\n",
       "pydev_ipython               NA\n",
       "pydevconsole                NA\n",
       "pydevd                      2.4.1\n",
       "pydevd_concurrency_analyser NA\n",
       "pydevd_file_utils           NA\n",
       "pydevd_plugins              NA\n",
       "pydevd_tracing              NA\n",
       "pyexpat                     NA\n",
       "pygments                    2.10.0\n",
       "pyparsing                   3.0.6\n",
       "pythoncom                   NA\n",
       "pytz                        2021.3\n",
       "pywin32_bootstrap           NA\n",
       "pywin32_system32            NA\n",
       "pywintypes                  NA\n",
       "scipy                       1.7.2\n",
       "six                         1.16.0\n",
       "statsmodels                 0.13.1\n",
       "storemagic                  NA\n",
       "threadpoolctl               3.0.0\n",
       "tornado                     6.1\n",
       "traitlets                   5.1.0\n",
       "typing_extensions           NA\n",
       "wcwidth                     0.2.5\n",
       "win32api                    NA\n",
       "win32com                    NA\n",
       "win32security               NA\n",
       "zmq                         22.3.0\n",
       "</pre>\n",
       "</details> <!-- seems like this ends pre, so might as well be explicit -->\n",
       "<pre>\n",
       "-----\n",
       "IPython             7.29.0\n",
       "jupyter_client      7.0.2\n",
       "jupyter_core        4.7.1\n",
       "notebook            6.4.3\n",
       "-----\n",
       "Python 3.9.6 (tags/v3.9.6:db3ff76, Jun 28 2021, 15:26:21) [MSC v.1929 64 bit (AMD64)]\n",
       "Windows-10-10.0.22000-SP0\n",
       "-----\n",
       "Session information updated at 2022-02-01 14:12\n",
       "</pre>\n",
       "</details>"
      ],
      "text/plain": [
       "<IPython.core.display.HTML object>"
      ]
     },
     "execution_count": 3,
     "metadata": {},
     "output_type": "execute_result"
    }
   ],
   "source": [
    "import session_info\n",
    "session_info.show()"
   ]
  },
  {
   "cell_type": "code",
   "execution_count": 4,
   "metadata": {},
   "outputs": [
    {
     "name": "stdout",
     "output_type": "stream",
     "text": [
      "device: cuda\n"
     ]
    }
   ],
   "source": [
    "# setting the device as the GPU if available, else the CPU\n",
    "device = torch.device('cuda' if torch.cuda.is_available() else 'cpu')\n",
    "print(\"device: {}\".format(device))"
   ]
  },
  {
   "cell_type": "markdown",
   "metadata": {},
   "source": [
    "### *1.2. DATA LOADING*"
   ]
  },
  {
   "cell_type": "code",
   "execution_count": 5,
   "metadata": {},
   "outputs": [],
   "source": [
    "data2D_dir = \"data/nturgbd60_skeletons_2D/\"\n",
    "data3D_dir = \"data/nturgbd60_skeletons_3D/\"\n",
    "\n",
    "data2D_files = os.listdir(data2D_dir)\n",
    "data3D_files = os.listdir(data3D_dir)"
   ]
  },
  {
   "cell_type": "code",
   "execution_count": 6,
   "metadata": {},
   "outputs": [],
   "source": [
    "with open(\"./data/actions.txt\", 'r') as actions_file:\n",
    "    actions = [line.replace('\\n', '') for line in actions_file.readlines()]\n",
    "    actions_file.close()"
   ]
  },
  {
   "cell_type": "code",
   "execution_count": 7,
   "metadata": {},
   "outputs": [
    {
     "name": "stdout",
     "output_type": "stream",
     "text": [
      "class 0 : pickup\n",
      "class 1 : throw\n",
      "class 2 : sitting down\n",
      "class 3 : standing up (from sitting position)\n",
      "class 4 : take off jacket\n",
      "class 5 : reach into pocket\n",
      "class 6 : pointing to something with finger\n",
      "class 7 : check time (from watch)\n",
      "class 8 : falling\n"
     ]
    }
   ],
   "source": [
    "classes = [5, 6, 7, 8, 14, 24, 30, 32, 42]\n",
    "for i,elem in enumerate(classes):\n",
    "    print(\"class {} : {}\".format(i, actions[elem]))"
   ]
  },
  {
   "cell_type": "code",
   "execution_count": 8,
   "metadata": {},
   "outputs": [],
   "source": [
    "class HumanActionDataset2D(Dataset):\n",
    "\n",
    "    def __init__(self, data_dir, data_files, classes, normalized=True, with_depth=True, flatten=False):\n",
    "        self.data_dir = data_dir\n",
    "        self.data_files = [data_file for data_file in data_files if int(data_file[17:-4])-1 in classes]\n",
    "        self.classes = classes\n",
    "        self.with_depth = with_depth\n",
    "        self.flatten =  flatten\n",
    "        self.normalized = normalized\n",
    "\n",
    "    def __len__(self):\n",
    "        return len(self.data_files)\n",
    "\n",
    "    def __getitem__(self, idx):\n",
    "        tensor = torch.Tensor(np.load(self.data_dir + self.data_files[idx]))\n",
    "        if self.normalized:\n",
    "            tensor[:,:,0] = tensor[:,:,0]/1920-0.5\n",
    "            tensor[:,:,1] = tensor[:,:,1]/1080-0.5\n",
    "        if not self.with_depth:\n",
    "            tensor = tensor[:,:,:2]\n",
    "        if self.flatten:\n",
    "            tensor = tensor.reshape((tensor.shape[0], tensor.shape[1]*tensor.shape[2]))\n",
    "        label = self.classes.index(int(self.data_files[idx][17:-4])-1)\n",
    "        return (tensor, label)"
   ]
  },
  {
   "cell_type": "markdown",
   "metadata": {},
   "source": [
    "We also build a dataset in which we are going to mask some joints to see if our model is robust enough to missing data."
   ]
  },
  {
   "cell_type": "code",
   "execution_count": 9,
   "metadata": {},
   "outputs": [],
   "source": [
    "class HumanActionDataset3D(Dataset):\n",
    "\n",
    "    def __init__(self, data_dir, data_files, classes, flatten=False):\n",
    "        self.data_dir = data_dir\n",
    "        self.data_files = [data_file for data_file in data_files if int(data_file[17:-4])-1 in classes]\n",
    "        self.classes = classes\n",
    "        self.flatten =  flatten\n",
    "\n",
    "    def __len__(self):\n",
    "        return len(self.data_files)\n",
    "\n",
    "    def __getitem__(self, idx):\n",
    "        tensor = torch.Tensor(np.load(self.data_dir + self.data_files[idx]))\n",
    "        if self.flatten:\n",
    "            tensor = tensor.reshape((tensor.shape[0], tensor.shape[1]*tensor.shape[2]))\n",
    "        label = self.classes.index(int(self.data_files[idx][17:-4])-1)\n",
    "        return (tensor, label)"
   ]
  },
  {
   "cell_type": "code",
   "execution_count": 10,
   "metadata": {},
   "outputs": [],
   "source": [
    "HAD2D = HumanActionDataset2D(data2D_dir, data2D_files, classes, with_depth=False, flatten=True)\n",
    "HAD3D = HumanActionDataset3D(data3D_dir, data3D_files, classes, flatten=True)"
   ]
  },
  {
   "cell_type": "markdown",
   "metadata": {},
   "source": [
    "Here we are going to use PyTorch’s DataLoader with Variable Length Sequences for LSTM/GRU : from this [article](https://www.codefull.net/2018/11/use-pytorchs-dataloader-with-variable-length-sequences-for-lstm-gru/)."
   ]
  },
  {
   "cell_type": "code",
   "execution_count": 11,
   "metadata": {},
   "outputs": [],
   "source": [
    "class PadSequence():\n",
    "\n",
    "    def __call__(self, batch):\n",
    "\n",
    "        # let's assume that each element in \"batch\" is a tuple (data, label).\n",
    "        # the following line of code sort the batch in the descending order\n",
    "        sorted_batch = sorted(batch, key=lambda x: x[0].shape[0], reverse=True)\n",
    "        \n",
    "        # then we take each sequence of the batch and pad it\n",
    "        sequences = [x[0] for x in sorted_batch]\n",
    "        sequences_padded_end = torch.nn.utils.rnn.pad_sequence(sequences, batch_first=True)\n",
    "\n",
    "        lengths = torch.LongTensor([len(x) for x in sequences])\n",
    "\n",
    "        # here we adjust the padding because we want zeros at the beginning\n",
    "        # (we had poor results with zeros at the end)\n",
    "        sequences_padded_begin = torch.stack(\n",
    "            [torch.cat([\n",
    "                sequences_padded_end[i][lengths[i]:],\n",
    "                sequences_padded_end[i][:lengths[i]]]\n",
    "            ) for i in range(len(sequences_padded_end))]\n",
    "        )\n",
    "\n",
    "        # don't forget to grab the labels of the *sorted* batch\n",
    "        labels = torch.LongTensor([x[1] for x in sorted_batch])\n",
    "        return sequences_padded_begin, lengths, labels"
   ]
  },
  {
   "cell_type": "markdown",
   "metadata": {},
   "source": [
    "We use 80% of the data for training and the remaining 20% for validation."
   ]
  },
  {
   "cell_type": "code",
   "execution_count": 12,
   "metadata": {},
   "outputs": [],
   "source": [
    "train_dataset2D, val_dataset2D = torch.utils.data.random_split(HAD2D, [int(0.80*len(HAD2D)), len(HAD2D)-int(0.80*len(HAD2D))])\n",
    "train_dataset3D, val_dataset3D = torch.utils.data.random_split(HAD3D, [int(0.80*len(HAD3D)), len(HAD3D)-int(0.80*len(HAD3D))])\n",
    "\n",
    "train_dataloader2D = torch.utils.data.DataLoader(dataset=train_dataset2D, batch_size=32, collate_fn=PadSequence(), shuffle=True)\n",
    "val_dataloader2D = torch.utils.data.DataLoader(dataset=val_dataset2D, batch_size=32, collate_fn=PadSequence(), shuffle=True)\n",
    "\n",
    "train_dataloader3D = torch.utils.data.DataLoader(dataset=train_dataset3D, batch_size=32, collate_fn=PadSequence(), shuffle=True)\n",
    "val_dataloader3D = torch.utils.data.DataLoader(dataset=val_dataset3D, batch_size=32, collate_fn=PadSequence(), shuffle=True)"
   ]
  },
  {
   "cell_type": "markdown",
   "metadata": {},
   "source": [
    "### *1.3 AUXILIARY FUNCTIONS*"
   ]
  },
  {
   "cell_type": "code",
   "execution_count": 13,
   "metadata": {},
   "outputs": [],
   "source": [
    "def train_model(model, criterion, optimizer, nb_epochs, epoch_print_frequence, train_dataloader, val_dataloader):\n",
    "\n",
    "    s = time.time()\n",
    "\n",
    "    train_losses, val_losses, train_accs, val_accs = [], [], [], []\n",
    "\n",
    "    for epoch in range(nb_epochs):\n",
    "        \n",
    "        running_loss_train, running_loss_val, running_acc_train, running_acc_val = 0, 0, 0, 0\n",
    "\n",
    "        for train in [True, False]:\n",
    "\n",
    "            if train:\n",
    "                dataloader = train_dataloader\n",
    "                model.train()\n",
    "            else:\n",
    "                dataloader = val_dataloader\n",
    "                model.eval()\n",
    "\n",
    "            for data in dataloader:\n",
    "                \n",
    "                inputs = data[0].to(device)\n",
    "                labels_raw = data[-1]\n",
    "                labels = torch.zeros((inputs.shape[0], len(classes)))\n",
    "                for i in range(len(labels_raw)):\n",
    "                    labels[i][int(labels_raw[i])] = 1\n",
    "                labels = labels.to(device)\n",
    "\n",
    "                if train:\n",
    "                    optimizer.zero_grad()\n",
    "\n",
    "                outputs_for_loss = model(inputs)\n",
    "                sm = nn.Softmax(dim=1).to(device)\n",
    "                outputs = sm(outputs_for_loss)\n",
    "                outputs = outputs.to(device)\n",
    "                loss = criterion(outputs_for_loss, labels)\n",
    "\n",
    "                if train:\n",
    "                    loss.backward()\n",
    "                    optimizer.step()\n",
    "                    running_loss_train += loss.item()\n",
    "                    running_acc_train += int(torch.sum(outputs.argmax(dim=1) == labels.argmax(dim=1)))\n",
    "                else:\n",
    "                    running_loss_val += loss.item()\n",
    "                    running_acc_val += int(torch.sum(outputs.argmax(dim=1) == labels.argmax(dim=1)))\n",
    "\n",
    "        running_loss_train /= len(train_dataloader)\n",
    "        running_loss_val /= len(val_dataloader)\n",
    "        running_acc_train /= len(train_dataset2D)\n",
    "        running_acc_val /= len(val_dataset2D)\n",
    "\n",
    "        train_losses.append(running_loss_train)\n",
    "        val_losses.append(running_loss_val)\n",
    "        train_accs.append(running_acc_train)\n",
    "        val_accs.append(running_acc_val)\n",
    "\n",
    "        if (epoch+1) % epoch_print_frequence == 0:\n",
    "            print(\"epochs {} ({} s) | train loss : {} | val loss : {} | train acc : {} | val acc : {}\".format(\n",
    "                epoch+1,\n",
    "                int(time.time()-s),\n",
    "                running_loss_train,\n",
    "                running_loss_val,\n",
    "                running_acc_train,\n",
    "                running_acc_val\n",
    "                # int(1000000*running_loss_train)/1000000,\n",
    "                # int(1000000*running_loss_val)/1000000,\n",
    "                # int(1000000*running_acc_train)/1000000,\n",
    "                # int(1000000*running_acc_val)/1000000\n",
    "            ))\n",
    "    \n",
    "    return train_losses, val_losses, train_accs, val_accs"
   ]
  },
  {
   "cell_type": "markdown",
   "metadata": {},
   "source": [
    "___"
   ]
  },
  {
   "cell_type": "markdown",
   "metadata": {},
   "source": [
    "## **2. THE MODEL**"
   ]
  },
  {
   "cell_type": "markdown",
   "metadata": {},
   "source": [
    "### *2.1. Definition*"
   ]
  },
  {
   "cell_type": "code",
   "execution_count": 14,
   "metadata": {},
   "outputs": [],
   "source": [
    "class LSTM0(nn.Module):\n",
    "\n",
    "    def __init__(self, nb_classes, input_size, hidden_size_lstm, hidden_size_classifier, num_layers, device):\n",
    "\n",
    "        super(LSTM0, self).__init__()\n",
    "\n",
    "        self.num_classes = nb_classes   # number of classes\n",
    "        self.num_layers = num_layers    # number of layers\n",
    "        self.input_size = input_size    # input size\n",
    "        self.hidden_size = hidden_size_lstm  # hidden state\n",
    "        self.device = device\n",
    "\n",
    "        self.lstm = nn.LSTM(input_size=input_size, hidden_size=hidden_size_lstm, num_layers=num_layers, batch_first=True) # lstm\n",
    "        self.classifier = nn.Sequential(\n",
    "            nn.Linear(hidden_size_lstm, hidden_size_classifier),\n",
    "            nn.ReLU(),\n",
    "            nn.Linear(hidden_size_classifier, nb_classes)\n",
    "        )\n",
    "\n",
    "    def forward(self,x):\n",
    "\n",
    "        h_0 = torch.zeros(self.num_layers, x.size(0), self.hidden_size).to(self.device) # hidden state (short memory)\n",
    "        c_0 = torch.zeros(self.num_layers, x.size(0), self.hidden_size).to(self.device) # internal state (long memory)\n",
    "        \n",
    "        _, (hn, cn) = self.lstm(x, (h_0, c_0))\n",
    "        hn = hn.view(-1, self.hidden_size) # reshaping the data for clasifier\n",
    "        return self.classifier(hn)"
   ]
  },
  {
   "cell_type": "markdown",
   "metadata": {},
   "source": [
    "### *2.2. Training*"
   ]
  },
  {
   "cell_type": "markdown",
   "metadata": {},
   "source": [
    "#### *2.2.A On Raw Data (Without Data Augmentation & Masking)*"
   ]
  },
  {
   "cell_type": "code",
   "execution_count": 15,
   "metadata": {},
   "outputs": [
    {
     "data": {
      "text/plain": [
       "LSTM0(\n",
       "  (lstm): LSTM(75, 256, batch_first=True)\n",
       "  (classifier): Sequential(\n",
       "    (0): Linear(in_features=256, out_features=128, bias=True)\n",
       "    (1): ReLU()\n",
       "    (2): Linear(in_features=128, out_features=9, bias=True)\n",
       "  )\n",
       ")"
      ]
     },
     "execution_count": 15,
     "metadata": {},
     "output_type": "execute_result"
    }
   ],
   "source": [
    "model_LSTM02D = LSTM0(nb_classes=len(classes), input_size=50, hidden_size_lstm=256, hidden_size_classifier=128, num_layers=1, device=device)\n",
    "model_LSTM02D.to(device)\n",
    "model_LSTM02D.eval()\n",
    "\n",
    "model_LSTM03D = LSTM0(nb_classes=len(classes), input_size=75, hidden_size_lstm=256, hidden_size_classifier=128, num_layers=1, device=device)\n",
    "model_LSTM03D.to(device)\n",
    "model_LSTM03D.eval()"
   ]
  },
  {
   "cell_type": "code",
   "execution_count": 16,
   "metadata": {},
   "outputs": [],
   "source": [
    "criterion_LSTM02D = nn.CrossEntropyLoss()\n",
    "optimizer_LSTM02D = torch.optim.Adam(params=model_LSTM02D.parameters(), lr=1e-4)\n",
    "lr_scheduler_LSTM02D = torch.optim.lr_scheduler.StepLR(optimizer_LSTM02D, step_size=10, gamma=0.1)\n",
    "\n",
    "criterion_LSTM03D = nn.CrossEntropyLoss()\n",
    "optimizer_LSTM03D = torch.optim.Adam(params=model_LSTM03D.parameters(), lr=1e-4)\n",
    "lr_scheduler_LSTM03D = torch.optim.lr_scheduler.StepLR(optimizer_LSTM03D, step_size=10, gamma=0.1)"
   ]
  },
  {
   "cell_type": "markdown",
   "metadata": {},
   "source": [
    "Let's train and save this first model and see the evolution of the loss and accuracy over the epochs."
   ]
  },
  {
   "cell_type": "code",
   "execution_count": 17,
   "metadata": {},
   "outputs": [],
   "source": [
    "nb_epochs = 10\n",
    "epoch_print_frequence = 1"
   ]
  },
  {
   "cell_type": "code",
   "execution_count": 31,
   "metadata": {},
   "outputs": [
    {
     "name": "stdout",
     "output_type": "stream",
     "text": [
      "epochs 1 (216 s) | train loss : nan | val loss : nan | train acc : 0.11366313309776208 | val acc : 0.10829899941141848\n"
     ]
    },
    {
     "ename": "KeyboardInterrupt",
     "evalue": "",
     "output_type": "error",
     "traceback": [
      "\u001b[1;31m---------------------------------------------------------------------------\u001b[0m",
      "\u001b[1;31mKeyboardInterrupt\u001b[0m                         Traceback (most recent call last)",
      "\u001b[1;32m~\\AppData\\Local\\Temp/ipykernel_1684/2201310287.py\u001b[0m in \u001b[0;36m<module>\u001b[1;34m\u001b[0m\n\u001b[1;32m----> 1\u001b[1;33m \u001b[0mlosses_accs_LSTM02D\u001b[0m \u001b[1;33m=\u001b[0m \u001b[0mtrain_model\u001b[0m\u001b[1;33m(\u001b[0m\u001b[0mmodel_LSTM02D\u001b[0m\u001b[1;33m,\u001b[0m \u001b[0mcriterion_LSTM02D\u001b[0m\u001b[1;33m,\u001b[0m \u001b[0moptimizer_LSTM02D\u001b[0m\u001b[1;33m,\u001b[0m \u001b[0mnb_epochs\u001b[0m\u001b[1;33m,\u001b[0m \u001b[0mepoch_print_frequence\u001b[0m\u001b[1;33m,\u001b[0m \u001b[0mtrain_dataloader2D\u001b[0m\u001b[1;33m,\u001b[0m \u001b[0mval_dataloader2D\u001b[0m\u001b[1;33m)\u001b[0m\u001b[1;33m\u001b[0m\u001b[1;33m\u001b[0m\u001b[0m\n\u001b[0m\u001b[0;32m      2\u001b[0m \u001b[0mtorch\u001b[0m\u001b[1;33m.\u001b[0m\u001b[0msave\u001b[0m\u001b[1;33m(\u001b[0m\u001b[0mmodel_LSTM02D\u001b[0m\u001b[1;33m.\u001b[0m\u001b[0mstate_dict\u001b[0m\u001b[1;33m(\u001b[0m\u001b[1;33m)\u001b[0m\u001b[1;33m,\u001b[0m \u001b[1;34m\"../models_saved/LSTM02D.pt\"\u001b[0m\u001b[1;33m)\u001b[0m\u001b[1;33m\u001b[0m\u001b[1;33m\u001b[0m\u001b[0m\n",
      "\u001b[1;32m~\\AppData\\Local\\Temp/ipykernel_1684/342157910.py\u001b[0m in \u001b[0;36mtrain_model\u001b[1;34m(model, criterion, optimizer, nb_epochs, epoch_print_frequence, train_dataloader, val_dataloader)\u001b[0m\n\u001b[0;32m     39\u001b[0m                     \u001b[0mloss\u001b[0m\u001b[1;33m.\u001b[0m\u001b[0mbackward\u001b[0m\u001b[1;33m(\u001b[0m\u001b[1;33m)\u001b[0m\u001b[1;33m\u001b[0m\u001b[1;33m\u001b[0m\u001b[0m\n\u001b[0;32m     40\u001b[0m                     \u001b[0moptimizer\u001b[0m\u001b[1;33m.\u001b[0m\u001b[0mstep\u001b[0m\u001b[1;33m(\u001b[0m\u001b[1;33m)\u001b[0m\u001b[1;33m\u001b[0m\u001b[1;33m\u001b[0m\u001b[0m\n\u001b[1;32m---> 41\u001b[1;33m                     \u001b[0mrunning_loss_train\u001b[0m \u001b[1;33m+=\u001b[0m \u001b[0mloss\u001b[0m\u001b[1;33m.\u001b[0m\u001b[0mitem\u001b[0m\u001b[1;33m(\u001b[0m\u001b[1;33m)\u001b[0m\u001b[1;33m\u001b[0m\u001b[1;33m\u001b[0m\u001b[0m\n\u001b[0m\u001b[0;32m     42\u001b[0m                     \u001b[0mrunning_acc_train\u001b[0m \u001b[1;33m+=\u001b[0m \u001b[0mint\u001b[0m\u001b[1;33m(\u001b[0m\u001b[0mtorch\u001b[0m\u001b[1;33m.\u001b[0m\u001b[0msum\u001b[0m\u001b[1;33m(\u001b[0m\u001b[0moutputs\u001b[0m\u001b[1;33m.\u001b[0m\u001b[0margmax\u001b[0m\u001b[1;33m(\u001b[0m\u001b[0mdim\u001b[0m\u001b[1;33m=\u001b[0m\u001b[1;36m1\u001b[0m\u001b[1;33m)\u001b[0m \u001b[1;33m==\u001b[0m \u001b[0mlabels\u001b[0m\u001b[1;33m.\u001b[0m\u001b[0margmax\u001b[0m\u001b[1;33m(\u001b[0m\u001b[0mdim\u001b[0m\u001b[1;33m=\u001b[0m\u001b[1;36m1\u001b[0m\u001b[1;33m)\u001b[0m\u001b[1;33m)\u001b[0m\u001b[1;33m)\u001b[0m\u001b[1;33m\u001b[0m\u001b[1;33m\u001b[0m\u001b[0m\n\u001b[0;32m     43\u001b[0m                 \u001b[1;32melse\u001b[0m\u001b[1;33m:\u001b[0m\u001b[1;33m\u001b[0m\u001b[1;33m\u001b[0m\u001b[0m\n",
      "\u001b[1;31mKeyboardInterrupt\u001b[0m: "
     ]
    }
   ],
   "source": [
    "losses_accs_LSTM02D = train_model(model_LSTM02D, criterion_LSTM02D, optimizer_LSTM02D, nb_epochs, epoch_print_frequence, train_dataloader2D, val_dataloader2D)\n",
    "torch.save(model_LSTM02D.state_dict(), \"../models_saved/LSTM02D.pt\")"
   ]
  },
  {
   "cell_type": "markdown",
   "metadata": {},
   "source": [
    "***Remark: No matter the initial configuration or normalization of the dataset, it seems the training doesn't progress at all***"
   ]
  },
  {
   "cell_type": "code",
   "execution_count": 59,
   "metadata": {},
   "outputs": [],
   "source": [
    "nb_epochs = 150\n",
    "epoch_print_frequence = 10"
   ]
  },
  {
   "cell_type": "code",
   "execution_count": 60,
   "metadata": {},
   "outputs": [
    {
     "name": "stdout",
     "output_type": "stream",
     "text": [
      "epochs 10 (92 s) | train loss : 0.5736033854210321 | val loss : 0.560184363965635 | train acc : 0.800942285041225 | val acc : 0.8216597998822837\n",
      "epochs 20 (190 s) | train loss : 0.41285735487658093 | val loss : 0.45978703211855004 | train acc : 0.8583627797408716 | val acc : 0.8363743378457916\n",
      "epochs 30 (297 s) | train loss : 0.2919714171351961 | val loss : 0.35277832906555245 | train acc : 0.8954652532391049 | val acc : 0.8705120659211301\n",
      "epochs 40 (396 s) | train loss : 0.2312276745696023 | val loss : 0.32519130933064 | train acc : 0.914605418138987 | val acc : 0.8911124190700412\n",
      "epochs 50 (498 s) | train loss : 0.1801263104092347 | val loss : 0.29208150326653765 | train acc : 0.9355123674911661 | val acc : 0.9111241907004121\n",
      "epochs 60 (602 s) | train loss : 0.1442872773453663 | val loss : 0.29039861758550006 | train acc : 0.9489104829210836 | val acc : 0.9099470276633314\n",
      "epochs 70 (704 s) | train loss : 0.09856501278279463 | val loss : 0.3557098614120925 | train acc : 0.9665783274440518 | val acc : 0.885226603884638\n",
      "epochs 80 (808 s) | train loss : 0.09556577660628712 | val loss : 0.4596619216242322 | train acc : 0.9652532391048292 | val acc : 0.9022954679223072\n",
      "epochs 90 (915 s) | train loss : 0.07269763476608819 | val loss : 0.31131747020063577 | train acc : 0.973939929328622 | val acc : 0.9158328428487346\n",
      "epochs 100 (1012 s) | train loss : 0.049604637352115705 | val loss : 0.329039852945479 | train acc : 0.983510011778563 | val acc : 0.9199529134785168\n",
      "epochs 110 (1124 s) | train loss : 0.04507676572451464 | val loss : 0.31930006067772476 | train acc : 0.9845406360424028 | val acc : 0.9211300765155974\n",
      "epochs 120 (1239 s) | train loss : 0.03459251953393851 | val loss : 0.31626698241086193 | train acc : 0.9879269729093051 | val acc : 0.9258387286639199\n",
      "epochs 130 (1340 s) | train loss : 0.06904280009245535 | val loss : 0.3891743704325226 | train acc : 0.9755594817432274 | val acc : 0.9152442613301942\n",
      "epochs 140 (1445 s) | train loss : 0.0504834357397128 | val loss : 0.4350860862285589 | train acc : 0.9826266195524146 | val acc : 0.9022954679223072\n",
      "epochs 150 (1554 s) | train loss : 0.017724127862181627 | val loss : 0.43117315830507624 | train acc : 0.9957302709069493 | val acc : 0.9117127722189523\n"
     ]
    }
   ],
   "source": [
    "losses_accs_LSTM03D = train_model(model_LSTM03D, criterion_LSTM03D, optimizer_LSTM03D, nb_epochs, epoch_print_frequence, train_dataloader3D, val_dataloader3D)\n",
    "torch.save(model_LSTM03D.state_dict(), \"./models_saved/LSTM03D.pt\")"
   ]
  },
  {
   "cell_type": "code",
   "execution_count": 61,
   "metadata": {},
   "outputs": [],
   "source": [
    "# since LSTM02D doesn't seem to improve\n",
    "if False:\n",
    "\n",
    "    fig, ax = plt.subplots(nrows=1, ncols=2, figsize=(12,5))\n",
    "\n",
    "    ax[0].set(title=\"LSTM0 (2D) - Loss evolution\")\n",
    "    ax[0].plot(losses_accs_LSTM02D[0], label=\"train\")\n",
    "    ax[0].plot(losses_accs_LSTM02D[1], label=\"test\")\n",
    "    ax[0].set_xlabel(\"epoch\")\n",
    "    ax[0].set_ylabel(\"loss\")\n",
    "\n",
    "    ax[1].set(title=\"LSTM0 (2D) - Accuracy evolution\")\n",
    "    ax[1].plot(losses_accs_LSTM02D[2], label=\"train\")\n",
    "    ax[1].plot(losses_accs_LSTM02D[3], label=\"test\")\n",
    "    ax[1].set_xlabel(\"epoch\")\n",
    "    ax[1].set_ylabel(\"accuracy\")\n",
    "\n",
    "    plt.legend()\n",
    "    plt.show()"
   ]
  },
  {
   "cell_type": "code",
   "execution_count": 62,
   "metadata": {},
   "outputs": [
    {
     "data": {
      "image/png": "[encoded data removed]",
      "text/plain": [
       "<Figure size 864x360 with 2 Axes>"
      ]
     },
     "metadata": {
      "needs_background": "light"
     },
     "output_type": "display_data"
    }
   ],
   "source": [
    "fig, ax = plt.subplots(nrows=1, ncols=2, figsize=(12,5))\n",
    "\n",
    "ax[0].set(title=\"LSTM0 (3D) - Loss evolution\")\n",
    "ax[0].plot(losses_accs_LSTM03D[0], label=\"train\")\n",
    "ax[0].plot(losses_accs_LSTM03D[1], label=\"test\")\n",
    "ax[0].set_xlabel(\"epoch\")\n",
    "ax[0].set_ylabel(\"loss\")\n",
    "\n",
    "ax[1].set(title=\"LSTM0 (3D) - Accuracy evolution\")\n",
    "ax[1].plot(losses_accs_LSTM03D[2], label=\"train\")\n",
    "ax[1].plot(losses_accs_LSTM03D[3], label=\"test\")\n",
    "ax[1].set_xlabel(\"epoch\")\n",
    "ax[1].set_ylabel(\"accuracy\")\n",
    "\n",
    "plt.legend()\n",
    "plt.savefig(\"./models_saved/LSTM03D_loss_acc.png\")\n",
    "plt.show()"
   ]
  },
  {
   "cell_type": "markdown",
   "metadata": {},
   "source": [
    "In case the previous cell result disappear:\n",
    "\n",
    "![losses and accuracies](./models_saved/LSTM03D_loss_acc.png)"
   ]
  },
  {
   "cell_type": "code",
   "execution_count": 18,
   "metadata": {},
   "outputs": [
    {
     "data": {
      "text/plain": [
       "LSTM0(\n",
       "  (lstm): LSTM(75, 256, batch_first=True)\n",
       "  (classifier): Sequential(\n",
       "    (0): Linear(in_features=256, out_features=128, bias=True)\n",
       "    (1): ReLU()\n",
       "    (2): Linear(in_features=128, out_features=9, bias=True)\n",
       "  )\n",
       ")"
      ]
     },
     "execution_count": 18,
     "metadata": {},
     "output_type": "execute_result"
    }
   ],
   "source": [
    "model_LSTM03D = LSTM0(nb_classes=len(classes), input_size=75, hidden_size_lstm=256, hidden_size_classifier=128, num_layers=1, device=device)\n",
    "model_LSTM03D.to(device)\n",
    "model_LSTM03D.load_state_dict(torch.load(\"./models_saved/LSTM03D.pt\"))\n",
    "model_LSTM03D.eval()"
   ]
  },
  {
   "cell_type": "markdown",
   "metadata": {},
   "source": [
    "#### *2.2.B On Masked Data*"
   ]
  },
  {
   "cell_type": "markdown",
   "metadata": {},
   "source": [
    "As a reminder:\n",
    "\n",
    "![skeleton](./assets/skeleton.png)"
   ]
  },
  {
   "cell_type": "code",
   "execution_count": 19,
   "metadata": {},
   "outputs": [],
   "source": [
    "class HumanActionDataset3D_masked(Dataset):\n",
    "\n",
    "    def __init__(self, data_dir, data_files, classes, flatten=False, masked_percentage=0, max_hide=0):\n",
    "        self.data_dir = data_dir\n",
    "        self.data_files = [data_file for data_file in data_files if int(data_file[17:-4])-1 in classes]\n",
    "        self.classes = classes\n",
    "        self.flatten =  flatten\n",
    "        self.masked_percentage = masked_percentage # chance to have some body parts hide\n",
    "        self.max_hide = max(0, min(max_hide,25)) # maximum number of body parts to hide\n",
    "\n",
    "    def __len__(self):\n",
    "        return len(self.data_files)\n",
    "\n",
    "    def __getitem__(self, idx):\n",
    "        tensor = torch.Tensor(np.load(self.data_dir + self.data_files[idx]))\n",
    "        if np.random.random() < self.masked_percentage:\n",
    "            nb_to_hide = np.random.randint(low=1, high=self.max_hide+1)\n",
    "            parts_to_hide = np.random.choice(a=25, size=nb_to_hide, replace=False)\n",
    "            for part_to_hide in parts_to_hide:\n",
    "                tensor[:,part_to_hide,:] = -10\n",
    "        if self.flatten:\n",
    "            tensor = tensor.reshape((tensor.shape[0], tensor.shape[1]*tensor.shape[2]))\n",
    "        label = self.classes.index(int(self.data_files[idx][17:-4])-1)\n",
    "        return (tensor, label)"
   ]
  },
  {
   "cell_type": "code",
   "execution_count": 20,
   "metadata": {},
   "outputs": [],
   "source": [
    "HAD3D_masked = HumanActionDataset3D_masked(data3D_dir, data3D_files, classes, flatten=True, masked_percentage=0.25, max_hide=10)"
   ]
  },
  {
   "cell_type": "code",
   "execution_count": 21,
   "metadata": {},
   "outputs": [],
   "source": [
    "train_dataset3D_masked, val_dataset3D_masked = torch.utils.data.random_split(HAD3D_masked, [int(0.80*len(HAD3D_masked)), len(HAD3D_masked)-int(0.80*len(HAD3D_masked))])\n",
    "\n",
    "train_dataloader3D_masked = torch.utils.data.DataLoader(dataset=train_dataset3D_masked, batch_size=32, collate_fn=PadSequence(), shuffle=True)\n",
    "val_dataloader3D_masked = torch.utils.data.DataLoader(dataset=val_dataset3D_masked, batch_size=32, collate_fn=PadSequence(), shuffle=True)"
   ]
  },
  {
   "cell_type": "code",
   "execution_count": 22,
   "metadata": {},
   "outputs": [
    {
     "data": {
      "text/plain": [
       "LSTM0(\n",
       "  (lstm): LSTM(75, 256, batch_first=True)\n",
       "  (classifier): Sequential(\n",
       "    (0): Linear(in_features=256, out_features=128, bias=True)\n",
       "    (1): ReLU()\n",
       "    (2): Linear(in_features=128, out_features=9, bias=True)\n",
       "  )\n",
       ")"
      ]
     },
     "execution_count": 22,
     "metadata": {},
     "output_type": "execute_result"
    }
   ],
   "source": [
    "# we use the model trained previously as a base (thus we have a pretrained model)\n",
    "model_LSTM03D_masked = LSTM0(nb_classes=len(classes), input_size=75, hidden_size_lstm=256, hidden_size_classifier=128, num_layers=1, device=device)\n",
    "model_LSTM03D_masked.to(device)\n",
    "model_LSTM03D_masked.load_state_dict(torch.load(\"./models_saved/LSTM03D.pt\"))\n",
    "model_LSTM03D_masked.eval()"
   ]
  },
  {
   "cell_type": "code",
   "execution_count": 23,
   "metadata": {},
   "outputs": [],
   "source": [
    "criterion_LSTM03D_masked = nn.CrossEntropyLoss()\n",
    "optimizer_LSTM03D_masked = torch.optim.Adam(params=model_LSTM03D_masked.parameters(), lr=1e-4)\n",
    "lr_scheduler_LSTM03D_masked = torch.optim.lr_scheduler.StepLR(optimizer_LSTM03D_masked, step_size=10, gamma=0.1)"
   ]
  },
  {
   "cell_type": "code",
   "execution_count": 151,
   "metadata": {},
   "outputs": [],
   "source": [
    "nb_epochs = 100\n",
    "epoch_print_frequence = 10"
   ]
  },
  {
   "cell_type": "code",
   "execution_count": 152,
   "metadata": {},
   "outputs": [
    {
     "name": "stdout",
     "output_type": "stream",
     "text": [
      "epochs 10 (107 s) | train loss : 0.58115924461067 | val loss : 0.6298654570623681 | train acc : 0.7809187279151943 | val acc : 0.7633902295467923\n",
      "epochs 20 (216 s) | train loss : 0.5507918504053648 | val loss : 0.6135691950718561 | train acc : 0.7912249705535924 | val acc : 0.7698646262507357\n",
      "epochs 30 (327 s) | train loss : 0.5344218007975341 | val loss : 0.5816177084882468 | train acc : 0.7947585394581861 | val acc : 0.7810476751030018\n",
      "epochs 40 (439 s) | train loss : 0.536429779385457 | val loss : 0.5874539450914772 | train acc : 0.7985865724381626 | val acc : 0.7828134196586227\n",
      "epochs 50 (545 s) | train loss : 0.5158939542764789 | val loss : 0.5878970849293249 | train acc : 0.7991755005889282 | val acc : 0.7798705120659212\n",
      "epochs 60 (644 s) | train loss : 0.4852598936345096 | val loss : 0.5628356803898458 | train acc : 0.8130153121319199 | val acc : 0.7845791642142437\n",
      "epochs 70 (750 s) | train loss : 0.44493677148796584 | val loss : 0.5315047058242338 | train acc : 0.8342167255594818 | val acc : 0.7934078869923484\n",
      "epochs 80 (854 s) | train loss : 0.45768421694216593 | val loss : 0.5598900632725822 | train acc : 0.8265606595995288 | val acc : 0.7969393761035903\n",
      "epochs 90 (961 s) | train loss : 0.3828092157368509 | val loss : 0.46736869657481156 | train acc : 0.8542402826855123 | val acc : 0.836962919364332\n",
      "epochs 100 (1129 s) | train loss : 0.35686884657807755 | val loss : 0.45478882171489576 | train acc : 0.8689634864546525 | val acc : 0.8304885226603884\n"
     ]
    }
   ],
   "source": [
    "losses_accs_LSTM03D_masked = train_model(model_LSTM03D_masked, criterion_LSTM03D_masked, optimizer_LSTM03D_masked, nb_epochs, epoch_print_frequence, train_dataloader3D_masked, val_dataloader3D_masked)\n",
    "torch.save(model_LSTM03D_masked.state_dict(), \"./models_saved/LSTM03Dmasked.pt\")"
   ]
  },
  {
   "cell_type": "code",
   "execution_count": 155,
   "metadata": {},
   "outputs": [
    {
     "data": {
      "image/png": "[encoded data removed]",
      "text/plain": [
       "<Figure size 864x360 with 2 Axes>"
      ]
     },
     "metadata": {
      "needs_background": "light"
     },
     "output_type": "display_data"
    }
   ],
   "source": [
    "fig, ax = plt.subplots(nrows=1, ncols=2, figsize=(12,5))\n",
    "\n",
    "ax[0].set(title=\"LSTM0 (3D Masked) - Loss evolution\")\n",
    "ax[0].plot(losses_accs_LSTM03D_masked[0], label=\"train\")\n",
    "ax[0].plot(losses_accs_LSTM03D_masked[1], label=\"test\")\n",
    "ax[0].set_xlabel(\"epoch\")\n",
    "ax[0].set_ylabel(\"loss\")\n",
    "\n",
    "ax[1].set(title=\"LSTM0 (3D Masked) - Accuracy evolution\")\n",
    "ax[1].plot(losses_accs_LSTM03D_masked[2], label=\"train\")\n",
    "ax[1].plot(losses_accs_LSTM03D_masked[3], label=\"test\")\n",
    "ax[1].set_xlabel(\"epoch\")\n",
    "ax[1].set_ylabel(\"accuracy\")\n",
    "\n",
    "plt.legend()\n",
    "plt.savefig(\"./models_saved/LSTM03Dmasked_loss_acc.png\")\n",
    "plt.show()"
   ]
  },
  {
   "cell_type": "markdown",
   "metadata": {},
   "source": [
    "In case the previous cell result disappear:\n",
    "![losses and accuracies](./models_saved/LSTM03Dmasked_loss_acc.png)"
   ]
  },
  {
   "cell_type": "code",
   "execution_count": 24,
   "metadata": {},
   "outputs": [
    {
     "data": {
      "text/plain": [
       "LSTM0(\n",
       "  (lstm): LSTM(75, 256, batch_first=True)\n",
       "  (classifier): Sequential(\n",
       "    (0): Linear(in_features=256, out_features=128, bias=True)\n",
       "    (1): ReLU()\n",
       "    (2): Linear(in_features=128, out_features=9, bias=True)\n",
       "  )\n",
       ")"
      ]
     },
     "execution_count": 24,
     "metadata": {},
     "output_type": "execute_result"
    }
   ],
   "source": [
    "model_LSTM03D_masked = LSTM0(nb_classes=len(classes), input_size=75, hidden_size_lstm=256, hidden_size_classifier=128, num_layers=1, device=device)\n",
    "model_LSTM03D_masked.to(device)\n",
    "model_LSTM03D_masked.load_state_dict(torch.load(\"./models_saved/LSTM03Dmasked.pt\"))\n",
    "model_LSTM03D_masked.eval()"
   ]
  },
  {
   "cell_type": "markdown",
   "metadata": {},
   "source": [
    "#### *2.2.B On Part of the sequences (Not masked)*"
   ]
  },
  {
   "cell_type": "code",
   "execution_count": 25,
   "metadata": {},
   "outputs": [],
   "source": [
    "class HumanActionDataset3D_part(Dataset):\n",
    "\n",
    "    def __init__(self, data_dir, data_files, classes, flatten=False, min_percentage=1):\n",
    "        self.data_dir = data_dir\n",
    "        self.data_files = [data_file for data_file in data_files if int(data_file[17:-4])-1 in classes]\n",
    "        self.classes = classes\n",
    "        self.flatten =  flatten\n",
    "        self.min_percentage = max(0,min(min_percentage,1))\n",
    "\n",
    "    def __len__(self):\n",
    "        return len(self.data_files)\n",
    "\n",
    "    def __getitem__(self, idx):\n",
    "        tensor = torch.Tensor(np.load(self.data_dir + self.data_files[idx]))\n",
    "        if self.min_percentage < 1:\n",
    "            percentage = np.random.randint(low=int(100*self.min_percentage), high=100)/100\n",
    "            max_length = int(percentage * tensor.shape[0])\n",
    "            tensor = tensor[:max_length,:,:]\n",
    "        if self.flatten:\n",
    "            tensor = tensor.reshape((tensor.shape[0], tensor.shape[1]*tensor.shape[2]))\n",
    "        label = self.classes.index(int(self.data_files[idx][17:-4])-1)\n",
    "        return (tensor, label)"
   ]
  },
  {
   "cell_type": "code",
   "execution_count": 26,
   "metadata": {},
   "outputs": [],
   "source": [
    "HAD3D_part = HumanActionDataset3D_part(data3D_dir, data3D_files, classes, flatten=True, min_percentage=0.5)"
   ]
  },
  {
   "cell_type": "code",
   "execution_count": 27,
   "metadata": {},
   "outputs": [],
   "source": [
    "train_dataset3D_part, val_dataset3D_part = torch.utils.data.random_split(HAD3D_part, [int(0.80*len(HAD3D_part)), len(HAD3D_part)-int(0.80*len(HAD3D_part))])\n",
    "\n",
    "train_dataloader3D_part = torch.utils.data.DataLoader(dataset=train_dataset3D_part, batch_size=32, collate_fn=PadSequence(), shuffle=True)\n",
    "val_dataloader3D_part = torch.utils.data.DataLoader(dataset=val_dataset3D_part, batch_size=32, collate_fn=PadSequence(), shuffle=True)"
   ]
  },
  {
   "cell_type": "code",
   "execution_count": 28,
   "metadata": {},
   "outputs": [
    {
     "data": {
      "text/plain": [
       "LSTM0(\n",
       "  (lstm): LSTM(75, 256, batch_first=True)\n",
       "  (classifier): Sequential(\n",
       "    (0): Linear(in_features=256, out_features=128, bias=True)\n",
       "    (1): ReLU()\n",
       "    (2): Linear(in_features=128, out_features=9, bias=True)\n",
       "  )\n",
       ")"
      ]
     },
     "execution_count": 28,
     "metadata": {},
     "output_type": "execute_result"
    }
   ],
   "source": [
    "# we use the model trained previously as a base (thus we have a pretrained model)\n",
    "model_LSTM03D_part = LSTM0(nb_classes=len(classes), input_size=75, hidden_size_lstm=256, hidden_size_classifier=128, num_layers=1, device=device)\n",
    "model_LSTM03D_part.to(device)\n",
    "model_LSTM03D_part.load_state_dict(torch.load(\"./models_saved/LSTM03D.pt\"))\n",
    "model_LSTM03D_part.eval()"
   ]
  },
  {
   "cell_type": "code",
   "execution_count": 29,
   "metadata": {},
   "outputs": [],
   "source": [
    "criterion_LSTM03D_part = nn.CrossEntropyLoss()\n",
    "optimizer_LSTM03D_part = torch.optim.Adam(params=model_LSTM03D_part.parameters(), lr=1e-4)\n",
    "lr_scheduler_LSTM03D_part = torch.optim.lr_scheduler.StepLR(optimizer_LSTM03D_part, step_size=10, gamma=0.1)"
   ]
  },
  {
   "cell_type": "code",
   "execution_count": 30,
   "metadata": {},
   "outputs": [],
   "source": [
    "nb_epochs = 100\n",
    "epoch_print_frequence = 10"
   ]
  },
  {
   "cell_type": "code",
   "execution_count": null,
   "metadata": {},
   "outputs": [],
   "source": [
    "losses_accs_LSTM03D_part = train_model(model_LSTM03D_part, criterion_LSTM03D_part, optimizer_LSTM03D_part, nb_epochs, epoch_print_frequence, train_dataloader3D_part, val_dataloader3D_part)\n",
    "torch.save(model_LSTM03D_part.state_dict(), \"./models_saved/LSTM03Dpart.pt\")"
   ]
  },
  {
   "cell_type": "code",
   "execution_count": null,
   "metadata": {},
   "outputs": [
    {
     "data": {
      "image/png": "[encoded data removed]",
      "text/plain": [
       "<Figure size 864x360 with 2 Axes>"
      ]
     },
     "metadata": {
      "needs_background": "light"
     },
     "output_type": "display_data"
    }
   ],
   "source": [
    "fig, ax = plt.subplots(nrows=1, ncols=2, figsize=(12,5))\n",
    "\n",
    "ax[0].set(title=\"LSTM0 (3D Part of Sequences) - Loss evolution\")\n",
    "ax[0].plot(losses_accs_LSTM03D_part[0], label=\"train\")\n",
    "ax[0].plot(losses_accs_LSTM03D_part[1], label=\"test\")\n",
    "ax[0].set_xlabel(\"epoch\")\n",
    "ax[0].set_ylabel(\"loss\")\n",
    "\n",
    "ax[1].set(title=\"LSTM0 (3D Part of Sequences) - Accuracy evolution\")\n",
    "ax[1].plot(losses_accs_LSTM03D_part[2], label=\"train\")\n",
    "ax[1].plot(losses_accs_LSTM03D_part[3], label=\"test\")\n",
    "ax[1].set_xlabel(\"epoch\")\n",
    "ax[1].set_ylabel(\"accuracy\")\n",
    "\n",
    "plt.legend()\n",
    "plt.savefig(\"./models_saved/LSTM03Dpart_loss_acc.png\")\n",
    "plt.show()"
   ]
  },
  {
   "cell_type": "code",
   "execution_count": 31,
   "metadata": {},
   "outputs": [
    {
     "data": {
      "text/plain": [
       "LSTM0(\n",
       "  (lstm): LSTM(75, 256, batch_first=True)\n",
       "  (classifier): Sequential(\n",
       "    (0): Linear(in_features=256, out_features=128, bias=True)\n",
       "    (1): ReLU()\n",
       "    (2): Linear(in_features=128, out_features=9, bias=True)\n",
       "  )\n",
       ")"
      ]
     },
     "execution_count": 31,
     "metadata": {},
     "output_type": "execute_result"
    }
   ],
   "source": [
    "model_LSTM03D_part = LSTM0(nb_classes=len(classes), input_size=75, hidden_size_lstm=256, hidden_size_classifier=128, num_layers=1, device=device)\n",
    "model_LSTM03D_part.to(device)\n",
    "model_LSTM03D_part.load_state_dict(torch.load(\"./models_saved/LSTM03Dpart.pt\"))\n",
    "model_LSTM03D_part.eval()"
   ]
  },
  {
   "cell_type": "markdown",
   "metadata": {},
   "source": [
    "### *2.3. Evaluate the models*"
   ]
  },
  {
   "cell_type": "code",
   "execution_count": 90,
   "metadata": {},
   "outputs": [],
   "source": [
    "def accuracy_per_sequence_percentage(models, dataset, action_classes=classes, min_percentage=0.1, max_percentage=1, steps=10):\n",
    "    \n",
    "    percentages = np.linspace(start=min_percentage, stop=max_percentage, num=steps)\n",
    "    accuracies_per_model = [[]] * len(models)\n",
    "    n = len(dataset)\n",
    "    sm = nn.Softmax(dim=1)\n",
    "\n",
    "    N = sum([dataset[i][1] in action_classes for i in range(n)])\n",
    "    \n",
    "    for i,percentage in enumerate(percentages):\n",
    "        \n",
    "        accuracies = np.zeros(len(models))\n",
    "        \n",
    "        for j in range(n):\n",
    "            \n",
    "            tensor,label = dataset[j]\n",
    "\n",
    "            if label in action_classes:\n",
    "\n",
    "                tensor = tensor[:int(percentage * tensor.shape[0]),:]\n",
    "                tensor = tensor.to(device)\n",
    "                tensor = tensor.reshape(1,tensor.shape[0],75)\n",
    "                \n",
    "                for k,model in enumerate(models):\n",
    "\n",
    "                    accuracies[k] += int(sm(model(tensor)).argmax().item()==label)\n",
    "        \n",
    "        for k in range(len(models)):\n",
    "\n",
    "            accuracies_per_model[k] = accuracies_per_model[k] + [accuracies[k]/N]\n",
    "\n",
    "    return accuracies_per_model"
   ]
  },
  {
   "cell_type": "code",
   "execution_count": 91,
   "metadata": {},
   "outputs": [
    {
     "ename": "KeyboardInterrupt",
     "evalue": "",
     "output_type": "error",
     "traceback": [
      "\u001b[1;31m---------------------------------------------------------------------------\u001b[0m",
      "\u001b[1;31mKeyboardInterrupt\u001b[0m                         Traceback (most recent call last)",
      "\u001b[1;32m~\\AppData\\Local\\Temp/ipykernel_21616/1503505226.py\u001b[0m in \u001b[0;36m<module>\u001b[1;34m\u001b[0m\n\u001b[1;32m----> 1\u001b[1;33m results = [\n\u001b[0m\u001b[0;32m      2\u001b[0m     \u001b[0maccuracy_per_sequence_percentage\u001b[0m\u001b[1;33m(\u001b[0m\u001b[1;33m[\u001b[0m\u001b[0mmodel_LSTM03D\u001b[0m\u001b[1;33m,\u001b[0m \u001b[0mmodel_LSTM03D_masked\u001b[0m\u001b[1;33m,\u001b[0m \u001b[0mmodel_LSTM03D_part\u001b[0m\u001b[1;33m]\u001b[0m\u001b[1;33m,\u001b[0m \u001b[0mHAD3D\u001b[0m\u001b[1;33m,\u001b[0m \u001b[0maction_classes\u001b[0m\u001b[1;33m=\u001b[0m\u001b[1;33m[\u001b[0m\u001b[0melem\u001b[0m\u001b[1;33m]\u001b[0m\u001b[1;33m)\u001b[0m \u001b[1;32mfor\u001b[0m \u001b[0melem\u001b[0m \u001b[1;32min\u001b[0m \u001b[0mclasses\u001b[0m\u001b[1;33m\u001b[0m\u001b[1;33m\u001b[0m\u001b[0m\n\u001b[0;32m      3\u001b[0m ]\n",
      "\u001b[1;32m~\\AppData\\Local\\Temp/ipykernel_21616/1503505226.py\u001b[0m in \u001b[0;36m<listcomp>\u001b[1;34m(.0)\u001b[0m\n\u001b[0;32m      1\u001b[0m results = [\n\u001b[1;32m----> 2\u001b[1;33m     \u001b[0maccuracy_per_sequence_percentage\u001b[0m\u001b[1;33m(\u001b[0m\u001b[1;33m[\u001b[0m\u001b[0mmodel_LSTM03D\u001b[0m\u001b[1;33m,\u001b[0m \u001b[0mmodel_LSTM03D_masked\u001b[0m\u001b[1;33m,\u001b[0m \u001b[0mmodel_LSTM03D_part\u001b[0m\u001b[1;33m]\u001b[0m\u001b[1;33m,\u001b[0m \u001b[0mHAD3D\u001b[0m\u001b[1;33m,\u001b[0m \u001b[0maction_classes\u001b[0m\u001b[1;33m=\u001b[0m\u001b[1;33m[\u001b[0m\u001b[0melem\u001b[0m\u001b[1;33m]\u001b[0m\u001b[1;33m)\u001b[0m \u001b[1;32mfor\u001b[0m \u001b[0melem\u001b[0m \u001b[1;32min\u001b[0m \u001b[0mclasses\u001b[0m\u001b[1;33m\u001b[0m\u001b[1;33m\u001b[0m\u001b[0m\n\u001b[0m\u001b[0;32m      3\u001b[0m ]\n",
      "\u001b[1;32m~\\AppData\\Local\\Temp/ipykernel_21616/950168766.py\u001b[0m in \u001b[0;36maccuracy_per_sequence_percentage\u001b[1;34m(models, dataset, action_classes, min_percentage, max_percentage, steps)\u001b[0m\n\u001b[0;32m     24\u001b[0m                 \u001b[1;32mfor\u001b[0m \u001b[0mk\u001b[0m\u001b[1;33m,\u001b[0m\u001b[0mmodel\u001b[0m \u001b[1;32min\u001b[0m \u001b[0menumerate\u001b[0m\u001b[1;33m(\u001b[0m\u001b[0mmodels\u001b[0m\u001b[1;33m)\u001b[0m\u001b[1;33m:\u001b[0m\u001b[1;33m\u001b[0m\u001b[1;33m\u001b[0m\u001b[0m\n\u001b[0;32m     25\u001b[0m \u001b[1;33m\u001b[0m\u001b[0m\n\u001b[1;32m---> 26\u001b[1;33m                     \u001b[0maccuracies\u001b[0m\u001b[1;33m[\u001b[0m\u001b[0mk\u001b[0m\u001b[1;33m]\u001b[0m \u001b[1;33m+=\u001b[0m \u001b[0mint\u001b[0m\u001b[1;33m(\u001b[0m\u001b[0msm\u001b[0m\u001b[1;33m(\u001b[0m\u001b[0mmodel\u001b[0m\u001b[1;33m(\u001b[0m\u001b[0mtensor\u001b[0m\u001b[1;33m)\u001b[0m\u001b[1;33m)\u001b[0m\u001b[1;33m.\u001b[0m\u001b[0margmax\u001b[0m\u001b[1;33m(\u001b[0m\u001b[1;33m)\u001b[0m\u001b[1;33m.\u001b[0m\u001b[0mitem\u001b[0m\u001b[1;33m(\u001b[0m\u001b[1;33m)\u001b[0m\u001b[1;33m==\u001b[0m\u001b[0mlabel\u001b[0m\u001b[1;33m)\u001b[0m\u001b[1;33m\u001b[0m\u001b[1;33m\u001b[0m\u001b[0m\n\u001b[0m\u001b[0;32m     27\u001b[0m \u001b[1;33m\u001b[0m\u001b[0m\n\u001b[0;32m     28\u001b[0m         \u001b[1;32mfor\u001b[0m \u001b[0mk\u001b[0m \u001b[1;32min\u001b[0m \u001b[0mrange\u001b[0m\u001b[1;33m(\u001b[0m\u001b[0mlen\u001b[0m\u001b[1;33m(\u001b[0m\u001b[0mmodels\u001b[0m\u001b[1;33m)\u001b[0m\u001b[1;33m)\u001b[0m\u001b[1;33m:\u001b[0m\u001b[1;33m\u001b[0m\u001b[1;33m\u001b[0m\u001b[0m\n",
      "\u001b[1;32m~\\AppData\\Local\\Programs\\Python\\Python39\\lib\\site-packages\\torch\\nn\\modules\\module.py\u001b[0m in \u001b[0;36m_call_impl\u001b[1;34m(self, *input, **kwargs)\u001b[0m\n\u001b[0;32m   1100\u001b[0m         if not (self._backward_hooks or self._forward_hooks or self._forward_pre_hooks or _global_backward_hooks\n\u001b[0;32m   1101\u001b[0m                 or _global_forward_hooks or _global_forward_pre_hooks):\n\u001b[1;32m-> 1102\u001b[1;33m             \u001b[1;32mreturn\u001b[0m \u001b[0mforward_call\u001b[0m\u001b[1;33m(\u001b[0m\u001b[1;33m*\u001b[0m\u001b[0minput\u001b[0m\u001b[1;33m,\u001b[0m \u001b[1;33m**\u001b[0m\u001b[0mkwargs\u001b[0m\u001b[1;33m)\u001b[0m\u001b[1;33m\u001b[0m\u001b[1;33m\u001b[0m\u001b[0m\n\u001b[0m\u001b[0;32m   1103\u001b[0m         \u001b[1;31m# Do not call functions when jit is used\u001b[0m\u001b[1;33m\u001b[0m\u001b[1;33m\u001b[0m\u001b[1;33m\u001b[0m\u001b[0m\n\u001b[0;32m   1104\u001b[0m         \u001b[0mfull_backward_hooks\u001b[0m\u001b[1;33m,\u001b[0m \u001b[0mnon_full_backward_hooks\u001b[0m \u001b[1;33m=\u001b[0m \u001b[1;33m[\u001b[0m\u001b[1;33m]\u001b[0m\u001b[1;33m,\u001b[0m \u001b[1;33m[\u001b[0m\u001b[1;33m]\u001b[0m\u001b[1;33m\u001b[0m\u001b[1;33m\u001b[0m\u001b[0m\n",
      "\u001b[1;32m~\\AppData\\Local\\Temp/ipykernel_21616/3396088358.py\u001b[0m in \u001b[0;36mforward\u001b[1;34m(self, x)\u001b[0m\n\u001b[0;32m     23\u001b[0m         \u001b[0mc_0\u001b[0m \u001b[1;33m=\u001b[0m \u001b[0mtorch\u001b[0m\u001b[1;33m.\u001b[0m\u001b[0mzeros\u001b[0m\u001b[1;33m(\u001b[0m\u001b[0mself\u001b[0m\u001b[1;33m.\u001b[0m\u001b[0mnum_layers\u001b[0m\u001b[1;33m,\u001b[0m \u001b[0mx\u001b[0m\u001b[1;33m.\u001b[0m\u001b[0msize\u001b[0m\u001b[1;33m(\u001b[0m\u001b[1;36m0\u001b[0m\u001b[1;33m)\u001b[0m\u001b[1;33m,\u001b[0m \u001b[0mself\u001b[0m\u001b[1;33m.\u001b[0m\u001b[0mhidden_size\u001b[0m\u001b[1;33m)\u001b[0m\u001b[1;33m.\u001b[0m\u001b[0mto\u001b[0m\u001b[1;33m(\u001b[0m\u001b[0mself\u001b[0m\u001b[1;33m.\u001b[0m\u001b[0mdevice\u001b[0m\u001b[1;33m)\u001b[0m \u001b[1;31m# internal state (long memory)\u001b[0m\u001b[1;33m\u001b[0m\u001b[1;33m\u001b[0m\u001b[0m\n\u001b[0;32m     24\u001b[0m \u001b[1;33m\u001b[0m\u001b[0m\n\u001b[1;32m---> 25\u001b[1;33m         \u001b[0m_\u001b[0m\u001b[1;33m,\u001b[0m \u001b[1;33m(\u001b[0m\u001b[0mhn\u001b[0m\u001b[1;33m,\u001b[0m \u001b[0mcn\u001b[0m\u001b[1;33m)\u001b[0m \u001b[1;33m=\u001b[0m \u001b[0mself\u001b[0m\u001b[1;33m.\u001b[0m\u001b[0mlstm\u001b[0m\u001b[1;33m(\u001b[0m\u001b[0mx\u001b[0m\u001b[1;33m,\u001b[0m \u001b[1;33m(\u001b[0m\u001b[0mh_0\u001b[0m\u001b[1;33m,\u001b[0m \u001b[0mc_0\u001b[0m\u001b[1;33m)\u001b[0m\u001b[1;33m)\u001b[0m\u001b[1;33m\u001b[0m\u001b[1;33m\u001b[0m\u001b[0m\n\u001b[0m\u001b[0;32m     26\u001b[0m         \u001b[0mhn\u001b[0m \u001b[1;33m=\u001b[0m \u001b[0mhn\u001b[0m\u001b[1;33m.\u001b[0m\u001b[0mview\u001b[0m\u001b[1;33m(\u001b[0m\u001b[1;33m-\u001b[0m\u001b[1;36m1\u001b[0m\u001b[1;33m,\u001b[0m \u001b[0mself\u001b[0m\u001b[1;33m.\u001b[0m\u001b[0mhidden_size\u001b[0m\u001b[1;33m)\u001b[0m \u001b[1;31m# reshaping the data for clasifier\u001b[0m\u001b[1;33m\u001b[0m\u001b[1;33m\u001b[0m\u001b[0m\n\u001b[0;32m     27\u001b[0m         \u001b[1;32mreturn\u001b[0m \u001b[0mself\u001b[0m\u001b[1;33m.\u001b[0m\u001b[0mclassifier\u001b[0m\u001b[1;33m(\u001b[0m\u001b[0mhn\u001b[0m\u001b[1;33m)\u001b[0m\u001b[1;33m\u001b[0m\u001b[1;33m\u001b[0m\u001b[0m\n",
      "\u001b[1;32m~\\AppData\\Local\\Programs\\Python\\Python39\\lib\\site-packages\\torch\\nn\\modules\\module.py\u001b[0m in \u001b[0;36m_call_impl\u001b[1;34m(self, *input, **kwargs)\u001b[0m\n\u001b[0;32m   1100\u001b[0m         if not (self._backward_hooks or self._forward_hooks or self._forward_pre_hooks or _global_backward_hooks\n\u001b[0;32m   1101\u001b[0m                 or _global_forward_hooks or _global_forward_pre_hooks):\n\u001b[1;32m-> 1102\u001b[1;33m             \u001b[1;32mreturn\u001b[0m \u001b[0mforward_call\u001b[0m\u001b[1;33m(\u001b[0m\u001b[1;33m*\u001b[0m\u001b[0minput\u001b[0m\u001b[1;33m,\u001b[0m \u001b[1;33m**\u001b[0m\u001b[0mkwargs\u001b[0m\u001b[1;33m)\u001b[0m\u001b[1;33m\u001b[0m\u001b[1;33m\u001b[0m\u001b[0m\n\u001b[0m\u001b[0;32m   1103\u001b[0m         \u001b[1;31m# Do not call functions when jit is used\u001b[0m\u001b[1;33m\u001b[0m\u001b[1;33m\u001b[0m\u001b[1;33m\u001b[0m\u001b[0m\n\u001b[0;32m   1104\u001b[0m         \u001b[0mfull_backward_hooks\u001b[0m\u001b[1;33m,\u001b[0m \u001b[0mnon_full_backward_hooks\u001b[0m \u001b[1;33m=\u001b[0m \u001b[1;33m[\u001b[0m\u001b[1;33m]\u001b[0m\u001b[1;33m,\u001b[0m \u001b[1;33m[\u001b[0m\u001b[1;33m]\u001b[0m\u001b[1;33m\u001b[0m\u001b[1;33m\u001b[0m\u001b[0m\n",
      "\u001b[1;32m~\\AppData\\Local\\Programs\\Python\\Python39\\lib\\site-packages\\torch\\nn\\modules\\rnn.py\u001b[0m in \u001b[0;36mforward\u001b[1;34m(self, input, hx)\u001b[0m\n\u001b[0;32m    689\u001b[0m         \u001b[0mself\u001b[0m\u001b[1;33m.\u001b[0m\u001b[0mcheck_forward_args\u001b[0m\u001b[1;33m(\u001b[0m\u001b[0minput\u001b[0m\u001b[1;33m,\u001b[0m \u001b[0mhx\u001b[0m\u001b[1;33m,\u001b[0m \u001b[0mbatch_sizes\u001b[0m\u001b[1;33m)\u001b[0m\u001b[1;33m\u001b[0m\u001b[1;33m\u001b[0m\u001b[0m\n\u001b[0;32m    690\u001b[0m         \u001b[1;32mif\u001b[0m \u001b[0mbatch_sizes\u001b[0m \u001b[1;32mis\u001b[0m \u001b[1;32mNone\u001b[0m\u001b[1;33m:\u001b[0m\u001b[1;33m\u001b[0m\u001b[1;33m\u001b[0m\u001b[0m\n\u001b[1;32m--> 691\u001b[1;33m             result = _VF.lstm(input, hx, self._flat_weights, self.bias, self.num_layers,\n\u001b[0m\u001b[0;32m    692\u001b[0m                               self.dropout, self.training, self.bidirectional, self.batch_first)\n\u001b[0;32m    693\u001b[0m         \u001b[1;32melse\u001b[0m\u001b[1;33m:\u001b[0m\u001b[1;33m\u001b[0m\u001b[1;33m\u001b[0m\u001b[0m\n",
      "\u001b[1;31mKeyboardInterrupt\u001b[0m: "
     ]
    }
   ],
   "source": [
    "results = [\n",
    "    accuracy_per_sequence_percentage([model_LSTM03D, model_LSTM03D_masked, model_LSTM03D_part], HAD3D, action_classes=[elem]) for elem in classes\n",
    "]"
   ]
  },
  {
   "cell_type": "markdown",
   "metadata": {},
   "source": [
    "### *2.4. Grid Search* ***TODO***"
   ]
  },
  {
   "cell_type": "markdown",
   "metadata": {},
   "source": [
    "Let's find optimal parameters for this simple model among a relatively small set of hyperparameters."
   ]
  },
  {
   "cell_type": "markdown",
   "metadata": {},
   "source": [
    "___\n",
    "___"
   ]
  }
 ],
 "metadata": {
  "interpreter": {
   "hash": "118508df3531a4baef22a353ae7891686b2f0c3ff24a04c6bb67baeaff15e974"
  },
  "kernelspec": {
   "display_name": "Python 3.9.6 64-bit",
   "language": "python",
   "name": "python3"
  },
  "language_info": {
   "codemirror_mode": {
    "name": "ipython",
    "version": 3
   },
   "file_extension": ".py",
   "mimetype": "text/x-python",
   "name": "python",
   "nbconvert_exporter": "python",
   "pygments_lexer": "ipython3",
   "version": "3.9.6"
  },
  "orig_nbformat": 4
 },
 "nbformat": 4,
 "nbformat_minor": 2
}
