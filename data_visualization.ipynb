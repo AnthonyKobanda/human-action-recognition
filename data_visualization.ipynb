{
 "cells": [
  {
   "cell_type": "markdown",
   "metadata": {},
   "source": [
    "# **Visualization of the NTU RGB+D Action Recognition Dataset**"
   ]
  },
  {
   "cell_type": "markdown",
   "metadata": {},
   "source": [
    "___\n",
    "___"
   ]
  },
  {
   "cell_type": "markdown",
   "metadata": {},
   "source": [
    "## **1. Initialization**"
   ]
  },
  {
   "cell_type": "markdown",
   "metadata": {},
   "source": [
    "### *1.1. Imports*"
   ]
  },
  {
   "cell_type": "code",
   "execution_count": 1,
   "metadata": {},
   "outputs": [],
   "source": [
    "from PIL import Image, ImageDraw\n",
    "from scipy.spatial.transform import Rotation as R\n",
    "from tqdm import tqdm\n",
    "\n",
    "import matplotlib.pyplot as plt\n",
    "import numpy as np\n",
    "import os\n",
    "\n",
    "from torch.utils.data import Dataset\n",
    "\n",
    "import torch"
   ]
  },
  {
   "cell_type": "code",
   "execution_count": 2,
   "metadata": {},
   "outputs": [
    {
     "data": {
      "text/html": [
       "<details>\n",
       "<summary>Click to view session information</summary>\n",
       "<pre>\n",
       "-----\n",
       "PIL                 8.4.0\n",
       "matplotlib          3.4.3\n",
       "numpy               1.21.3\n",
       "scipy               1.7.2\n",
       "session_info        1.0.0\n",
       "torch               1.10.0+cu102\n",
       "tqdm                4.62.3\n",
       "-----\n",
       "</pre>\n",
       "<details>\n",
       "<summary>Click to view modules imported as dependencies</summary>\n",
       "<pre>\n",
       "astunparse                  1.6.3\n",
       "backcall                    0.2.0\n",
       "cffi                        1.15.0\n",
       "colorama                    0.4.4\n",
       "cycler                      0.10.0\n",
       "cython_runtime              NA\n",
       "dateutil                    2.8.2\n",
       "debugpy                     1.4.3\n",
       "decorator                   5.1.0\n",
       "defusedxml                  0.7.1\n",
       "entrypoints                 0.3\n",
       "google                      NA\n",
       "ipykernel                   6.4.1\n",
       "ipython_genutils            0.2.0\n",
       "jedi                        0.18.0\n",
       "kiwisolver                  1.3.2\n",
       "matplotlib_inline           NA\n",
       "mpl_toolkits                NA\n",
       "nt                          NA\n",
       "ntsecuritycon               NA\n",
       "pandas                      1.3.4\n",
       "parso                       0.8.2\n",
       "pickleshare                 0.7.5\n",
       "pkg_resources               NA\n",
       "prompt_toolkit              3.0.20\n",
       "pydev_ipython               NA\n",
       "pydevconsole                NA\n",
       "pydevd                      2.4.1\n",
       "pydevd_concurrency_analyser NA\n",
       "pydevd_file_utils           NA\n",
       "pydevd_plugins              NA\n",
       "pydevd_tracing              NA\n",
       "pyexpat                     NA\n",
       "pygments                    2.10.0\n",
       "pyparsing                   3.0.6\n",
       "pythoncom                   NA\n",
       "pytz                        2021.3\n",
       "pywin32_bootstrap           NA\n",
       "pywin32_system32            NA\n",
       "pywintypes                  NA\n",
       "six                         1.16.0\n",
       "storemagic                  NA\n",
       "tornado                     6.1\n",
       "traitlets                   5.1.0\n",
       "typing_extensions           NA\n",
       "wcwidth                     0.2.5\n",
       "win32api                    NA\n",
       "win32com                    NA\n",
       "win32security               NA\n",
       "zmq                         22.3.0\n",
       "</pre>\n",
       "</details> <!-- seems like this ends pre, so might as well be explicit -->\n",
       "<pre>\n",
       "-----\n",
       "IPython             7.29.0\n",
       "jupyter_client      7.0.2\n",
       "jupyter_core        4.7.1\n",
       "notebook            6.4.3\n",
       "-----\n",
       "Python 3.9.6 (tags/v3.9.6:db3ff76, Jun 28 2021, 15:26:21) [MSC v.1929 64 bit (AMD64)]\n",
       "Windows-10-10.0.22000-SP0\n",
       "-----\n",
       "Session information updated at 2022-02-01 15:00\n",
       "</pre>\n",
       "</details>"
      ],
      "text/plain": [
       "<IPython.core.display.HTML object>"
      ]
     },
     "execution_count": 2,
     "metadata": {},
     "output_type": "execute_result"
    }
   ],
   "source": [
    "# to fill the requirement.txt file we use the following line of code:\n",
    "import session_info\n",
    "session_info.show()"
   ]
  },
  {
   "cell_type": "code",
   "execution_count": 3,
   "metadata": {},
   "outputs": [
    {
     "name": "stdout",
     "output_type": "stream",
     "text": [
      "device: cuda\n"
     ]
    }
   ],
   "source": [
    "# setting device on GPU if available, else CPU\n",
    "device = torch.device('cuda' if torch.cuda.is_available() else 'cpu')\n",
    "print(\"device: {}\".format(device))"
   ]
  },
  {
   "cell_type": "markdown",
   "metadata": {},
   "source": [
    "### *1.2. Data Loading*"
   ]
  },
  {
   "cell_type": "code",
   "execution_count": 4,
   "metadata": {},
   "outputs": [],
   "source": [
    "data2D_dir = \"data/nturgbd60_skeletons_2D/\"\n",
    "data3D_dir = \"data/nturgbd60_skeletons_3D/\"\n",
    "\n",
    "data2D_files = os.listdir(data2D_dir)\n",
    "data3D_files = os.listdir(data3D_dir)"
   ]
  },
  {
   "cell_type": "code",
   "execution_count": 5,
   "metadata": {},
   "outputs": [],
   "source": [
    "with open(\"data/actions.txt\", 'r') as actions_file:\n",
    "    actions = [line.replace('\\n', '') for line in actions_file.readlines()]\n",
    "    actions_file.close()"
   ]
  },
  {
   "cell_type": "code",
   "execution_count": 6,
   "metadata": {},
   "outputs": [
    {
     "name": "stdout",
     "output_type": "stream",
     "text": [
      "class 0 : pickup\n",
      "class 1 : throw\n",
      "class 2 : sitting down\n",
      "class 3 : standing up (from sitting position)\n",
      "class 4 : take off jacket\n",
      "class 5 : reach into pocket\n",
      "class 6 : pointing to something with finger\n",
      "class 7 : check time (from watch)\n",
      "class 8 : falling\n"
     ]
    }
   ],
   "source": [
    "classes = [5, 6, 7, 8, 14, 24, 30, 32, 42]\n",
    "for i,elem in enumerate(classes):\n",
    "    print(\"class {} : {}\".format(i, actions[elem]))"
   ]
  },
  {
   "cell_type": "code",
   "execution_count": 7,
   "metadata": {},
   "outputs": [],
   "source": [
    "class HumanActionDataset2D(Dataset):\n",
    "\n",
    "    def __init__(self, data_dir, data_files, classes, with_depth=True, flatten=False):\n",
    "        self.data_dir = data_dir\n",
    "        self.data_files = [data_file for data_file in data_files if int(data_file[17:-4])-1 in classes]\n",
    "        self.classes = classes\n",
    "        self.with_depth = with_depth\n",
    "        self.flatten =  flatten\n",
    "\n",
    "    def __len__(self):\n",
    "        return len(self.data_files)\n",
    "\n",
    "    def __getitem__(self, idx):\n",
    "        tensor = torch.Tensor(np.load(self.data_dir + self.data_files[idx]))\n",
    "        if not self.with_depth:\n",
    "            tensor = tensor[:,:,:2]\n",
    "        if self.flatten:\n",
    "            tensor = tensor.reshape((tensor.shape[0], tensor.shape[1]*tensor.shape[2]))\n",
    "        label = self.classes.index(int(self.data_files[idx][17:-4])-1)\n",
    "        return (tensor, label)"
   ]
  },
  {
   "cell_type": "code",
   "execution_count": 8,
   "metadata": {},
   "outputs": [],
   "source": [
    "class HumanActionDataset3D(Dataset):\n",
    "\n",
    "    def __init__(self, data_dir, data_files, classes, flatten=False):\n",
    "        self.data_dir = data_dir\n",
    "        self.data_files = [data_file for data_file in data_files if int(data_file[17:-4])-1 in classes]\n",
    "        self.classes = classes\n",
    "        self.flatten =  flatten\n",
    "\n",
    "    def __len__(self):\n",
    "        return len(self.data_files)\n",
    "\n",
    "    def __getitem__(self, idx):\n",
    "        tensor = torch.Tensor(np.load(self.data_dir + self.data_files[idx]))\n",
    "        if self.flatten:\n",
    "            tensor = tensor.reshape((tensor.shape[0], tensor.shape[1]*tensor.shape[2]))\n",
    "        label = self.classes.index(int(self.data_files[idx][17:-4])-1)\n",
    "        return (tensor, label)"
   ]
  },
  {
   "cell_type": "code",
   "execution_count": 9,
   "metadata": {},
   "outputs": [],
   "source": [
    "HAD2D = HumanActionDataset2D(data2D_dir, data2D_files, classes, with_depth=False, flatten=False)\n",
    "HAD3D = HumanActionDataset3D(data3D_dir, data3D_files, classes, flatten=False)"
   ]
  },
  {
   "cell_type": "markdown",
   "metadata": {},
   "source": [
    "___"
   ]
  },
  {
   "cell_type": "markdown",
   "metadata": {},
   "source": [
    "## **2. Create Images**"
   ]
  },
  {
   "cell_type": "code",
   "execution_count": 10,
   "metadata": {},
   "outputs": [],
   "source": [
    "# sequences of joints to display the members of the squeletons\n",
    "\n",
    "bust_joints = [0, 1, 20, 2, 3]\n",
    "\n",
    "right_arm_joint = [23, 24, 11, 10, 9, 8]\n",
    "left_arm_joint = [21, 22, 7, 6, 5, 4]\n",
    "arm_joints = [23, 24, 11, 10, 9, 8, 20, 4, 5, 6, 7, 22, 21]\n",
    "\n",
    "right_leg_joints = []\n",
    "left_leg_joints = []\n",
    "leg_joints = [19, 18, 17, 16, 0, 12, 13, 14, 15]\n",
    "\n",
    "body_joints = [bust_joints, arm_joints, leg_joints]"
   ]
  },
  {
   "cell_type": "code",
   "execution_count": 11,
   "metadata": {},
   "outputs": [],
   "source": [
    "def get_image_sequence(i, dataset2D=HAD2D, dataset3D=HAD3D):\n",
    "    \n",
    "    \"\"\"\n",
    "    inputs:\n",
    "    * (int) i : index of the sample to consider\n",
    "    * dataset2D : dataset with the pixel information\n",
    "    * dataset3D : dataset with the space information (if not None we will consider the depth in the generated images)\n",
    "\n",
    "    output:\n",
    "    * final_image_sequence : sequence (frame by frame) of images + depth\n",
    "    \"\"\"\n",
    "    \n",
    "    xy_sequence = dataset2D[i][0]\n",
    "    image_sequence = np.zeros((xy_sequence.shape[0],25,3))\n",
    "    \n",
    "    if dataset3D != None:\n",
    "        z_sequence = dataset3D[i][0][:,:,2]\n",
    "    else:\n",
    "        z_sequence = np.zeros((xy_sequence.shape[0],25))\n",
    "    \n",
    "    for m in range(xy_sequence.shape[0]):\n",
    "        for n in range(25):\n",
    "            x = min(int(xy_sequence[m,n,0].item()),1920)-1\n",
    "            y = min(int(xy_sequence[m,n,1].item()),1080)-1\n",
    "            z = z_sequence[m,n].item()\n",
    "            image_sequence[m,n] = [x,y,z]\n",
    "    \n",
    "    return  image_sequence"
   ]
  },
  {
   "cell_type": "code",
   "execution_count": 12,
   "metadata": {},
   "outputs": [],
   "source": [
    "def get_image_sequence_normalize(i, dataset2D=HAD2D, dataset3D=HAD3D):\n",
    "    # get pixels but also normalize the depth between 0 and 1\n",
    "    image_sequence = get_image_sequence(i, dataset2D, dataset3D)\n",
    "    mini = image_sequence[:,:,2].min()\n",
    "    maxi = image_sequence[:,:,2].max()\n",
    "    if mini != maxi:\n",
    "        image_sequence[:,:,2] = (image_sequence[:,:,2]-mini)/(maxi-mini)\n",
    "    return image_sequence"
   ]
  },
  {
   "cell_type": "code",
   "execution_count": 13,
   "metadata": {},
   "outputs": [],
   "source": [
    "def create_image(image_frame):\n",
    "\n",
    "    img = Image.new(\"RGB\", (1920,1080 ), color=\"black\")\n",
    "    \n",
    "    for body_part in body_joints:\n",
    "        \n",
    "        for i in range(len(body_part)-1):\n",
    "            \n",
    "            a = image_frame[body_part[i]]\n",
    "            b = image_frame[body_part[i+1]]-a\n",
    "            n = 10\n",
    "            line = np.array([a+(i/n)*b for i in range(n)])\n",
    "\n",
    "            for i in range(len(line)-1):\n",
    "                x1,y1,z = line[i]\n",
    "                x2,y2,_ = line[i+1]\n",
    "                draw = ImageDraw.Draw(img)\n",
    "                color = tuple((int(255*z),0,int(255*(1-z))))\n",
    "                draw.line((x1,y1,x2,y2), fill=color,width=5)\n",
    "    return img"
   ]
  },
  {
   "cell_type": "code",
   "execution_count": 14,
   "metadata": {},
   "outputs": [
    {
     "data": {
      "image/png": "[encoded data removed]",
      "text/plain": [
       "<PIL.Image.Image image mode=RGB size=1920x1080 at 0x22F7FC54E80>"
      ]
     },
     "execution_count": 14,
     "metadata": {},
     "output_type": "execute_result"
    }
   ],
   "source": [
    "# example (first element of the dataset)\n",
    "create_image(get_image_sequence_normalize(15)[0,:,:])"
   ]
  },
  {
   "cell_type": "code",
   "execution_count": 15,
   "metadata": {},
   "outputs": [],
   "source": [
    "def create_gif(i, filepath, dataset2D=HAD2D, dataset3D=HAD3D, normalize=True):\n",
    "    if normalize:\n",
    "        image_sequence = get_image_sequence_normalize(i, dataset2D, dataset3D)\n",
    "    else:\n",
    "        image_sequence = get_image_sequence(i, dataset2D, dataset3D)\n",
    "    seq = [create_image(frame) for frame in image_sequence]\n",
    "    seq[0].save(filepath, save_all=True, append_images=seq[1:])"
   ]
  },
  {
   "cell_type": "code",
   "execution_count": 16,
   "metadata": {},
   "outputs": [],
   "source": [
    "if \"gifs\" not in os.listdir(\"./data/\"):\n",
    "    os.mkdir(\"./data/gifs\")"
   ]
  },
  {
   "cell_type": "code",
   "execution_count": 17,
   "metadata": {},
   "outputs": [],
   "source": [
    "for index in range(100):\n",
    "    create_gif(index, \"./data/gifs/sample_{}_A{}.gif\".format(index, classes[HAD2D[index][1]]))"
   ]
  },
  {
   "cell_type": "markdown",
   "metadata": {},
   "source": [
    "___\n",
    "___"
   ]
  }
 ],
 "metadata": {
  "interpreter": {
   "hash": "118508df3531a4baef22a353ae7891686b2f0c3ff24a04c6bb67baeaff15e974"
  },
  "kernelspec": {
   "display_name": "Python 3.9.6 64-bit",
   "language": "python",
   "name": "python3"
  },
  "language_info": {
   "codemirror_mode": {
    "name": "ipython",
    "version": 3
   },
   "file_extension": ".py",
   "mimetype": "text/x-python",
   "name": "python",
   "nbconvert_exporter": "python",
   "pygments_lexer": "ipython3",
   "version": "3.9.6"
  },
  "orig_nbformat": 4
 },
 "nbformat": 4,
 "nbformat_minor": 2
}
