{
 "cells": [
  {
   "cell_type": "markdown",
   "metadata": {},
   "source": [
    "# **Analysis of the NTU RGB+D Action Recognition Dataset**"
   ]
  },
  {
   "cell_type": "markdown",
   "metadata": {},
   "source": [
    "___\n",
    "___"
   ]
  },
  {
   "cell_type": "markdown",
   "metadata": {},
   "source": [
    "## **1. INITIALIZATION**"
   ]
  },
  {
   "cell_type": "markdown",
   "metadata": {},
   "source": [
    "### *1.1. IMPORT*"
   ]
  },
  {
   "cell_type": "code",
   "execution_count": 1,
   "metadata": {},
   "outputs": [],
   "source": [
    "from IPython.display import display\n",
    "from tqdm import tqdm\n",
    "\n",
    "import matplotlib.pyplot as plt\n",
    "import numpy as np\n",
    "import os\n",
    "import pandas as pd\n",
    "import time\n",
    "\n",
    "from torch.utils.data import Dataset\n",
    "\n",
    "import torch"
   ]
  },
  {
   "cell_type": "code",
   "execution_count": 2,
   "metadata": {},
   "outputs": [
    {
     "data": {
      "text/html": [
       "<details>\n",
       "<summary>Click to view session information</summary>\n",
       "<pre>\n",
       "-----\n",
       "matplotlib          3.4.3\n",
       "numpy               1.21.3\n",
       "pandas              1.3.4\n",
       "session_info        1.0.0\n",
       "torch               1.10.0+cu102\n",
       "tqdm                4.62.3\n",
       "-----\n",
       "</pre>\n",
       "<details>\n",
       "<summary>Click to view modules imported as dependencies</summary>\n",
       "<pre>\n",
       "PIL                         8.4.0\n",
       "astunparse                  1.6.3\n",
       "backcall                    0.2.0\n",
       "cffi                        1.15.0\n",
       "colorama                    0.4.4\n",
       "cycler                      0.10.0\n",
       "cython_runtime              NA\n",
       "dateutil                    2.8.2\n",
       "debugpy                     1.4.3\n",
       "decorator                   5.1.0\n",
       "defusedxml                  0.7.1\n",
       "entrypoints                 0.3\n",
       "google                      NA\n",
       "ipykernel                   6.4.1\n",
       "ipython_genutils            0.2.0\n",
       "jedi                        0.18.0\n",
       "kiwisolver                  1.3.2\n",
       "matplotlib_inline           NA\n",
       "mpl_toolkits                NA\n",
       "nt                          NA\n",
       "ntsecuritycon               NA\n",
       "parso                       0.8.2\n",
       "pickleshare                 0.7.5\n",
       "pkg_resources               NA\n",
       "prompt_toolkit              3.0.20\n",
       "pydev_ipython               NA\n",
       "pydevconsole                NA\n",
       "pydevd                      2.4.1\n",
       "pydevd_concurrency_analyser NA\n",
       "pydevd_file_utils           NA\n",
       "pydevd_plugins              NA\n",
       "pydevd_tracing              NA\n",
       "pyexpat                     NA\n",
       "pygments                    2.10.0\n",
       "pyparsing                   3.0.6\n",
       "pythoncom                   NA\n",
       "pytz                        2021.3\n",
       "pywin32_bootstrap           NA\n",
       "pywin32_system32            NA\n",
       "pywintypes                  NA\n",
       "six                         1.16.0\n",
       "storemagic                  NA\n",
       "tornado                     6.1\n",
       "traitlets                   5.1.0\n",
       "typing_extensions           NA\n",
       "wcwidth                     0.2.5\n",
       "win32api                    NA\n",
       "win32com                    NA\n",
       "win32security               NA\n",
       "zmq                         22.3.0\n",
       "</pre>\n",
       "</details> <!-- seems like this ends pre, so might as well be explicit -->\n",
       "<pre>\n",
       "-----\n",
       "IPython             7.29.0\n",
       "jupyter_client      7.0.2\n",
       "jupyter_core        4.7.1\n",
       "notebook            6.4.3\n",
       "-----\n",
       "Python 3.9.6 (tags/v3.9.6:db3ff76, Jun 28 2021, 15:26:21) [MSC v.1929 64 bit (AMD64)]\n",
       "Windows-10-10.0.22000-SP0\n",
       "-----\n",
       "Session information updated at 2022-01-18 11:49\n",
       "</pre>\n",
       "</details>"
      ],
      "text/plain": [
       "<IPython.core.display.HTML object>"
      ]
     },
     "execution_count": 2,
     "metadata": {},
     "output_type": "execute_result"
    }
   ],
   "source": [
    "# to fill the requirement.txt file we use the following line of code:\n",
    "import session_info\n",
    "session_info.show()"
   ]
  },
  {
   "cell_type": "code",
   "execution_count": 3,
   "metadata": {},
   "outputs": [
    {
     "name": "stdout",
     "output_type": "stream",
     "text": [
      "device: cuda\n"
     ]
    }
   ],
   "source": [
    "# setting device on GPU if available, else CPU\n",
    "device = torch.device('cuda' if torch.cuda.is_available() else 'cpu')\n",
    "print(\"device: {}\".format(device))"
   ]
  },
  {
   "cell_type": "markdown",
   "metadata": {},
   "source": [
    "### *1.2. DATA LOADING*"
   ]
  },
  {
   "cell_type": "code",
   "execution_count": 4,
   "metadata": {},
   "outputs": [],
   "source": [
    "data_dir = \"data/nturgbd_skeletons_cleaned/\"\n",
    "data_files = os.listdir(data_dir)"
   ]
  },
  {
   "cell_type": "code",
   "execution_count": 5,
   "metadata": {},
   "outputs": [],
   "source": [
    "with open(\"data/actions.txt\", 'r') as actions_file:\n",
    "    actions = [line.replace('\\n', '') for line in actions_file.readlines()]\n",
    "    actions_file.close()"
   ]
  },
  {
   "cell_type": "code",
   "execution_count": 6,
   "metadata": {},
   "outputs": [
    {
     "data": {
      "text/plain": [
       "['drink water',\n",
       " 'eat meal/snack',\n",
       " 'brushing teeth',\n",
       " 'brushing hair',\n",
       " 'drop',\n",
       " 'pickup',\n",
       " 'throw',\n",
       " 'sitting down',\n",
       " 'standing up (from sitting position)',\n",
       " 'clapping',\n",
       " 'reading',\n",
       " 'writing',\n",
       " 'tear up paper',\n",
       " 'wear jacket',\n",
       " 'take off jacket',\n",
       " 'wear a shoe',\n",
       " 'take off a shoe',\n",
       " 'wear on glasses',\n",
       " 'take off glasses',\n",
       " 'put on a hat/cap',\n",
       " 'take off a hat/cap',\n",
       " 'cheer up',\n",
       " 'hand waving',\n",
       " 'kicking something',\n",
       " 'reach into pocket',\n",
       " 'hopping (one foot jumping)',\n",
       " 'jump up',\n",
       " 'make a phone call/answer phone',\n",
       " 'playing with phone/tablet',\n",
       " 'typing on a keyboard',\n",
       " 'pointing to something with finger',\n",
       " 'taking a selfie',\n",
       " 'check time (from watch)',\n",
       " 'rub two hands together',\n",
       " 'nod head/bow',\n",
       " 'shake head',\n",
       " 'wipe face',\n",
       " 'salute',\n",
       " 'put the palms together',\n",
       " 'cross hands in front (say stop)',\n",
       " 'sneeze/cough',\n",
       " 'staggering',\n",
       " 'falling',\n",
       " 'touch head (headache)',\n",
       " 'touch chest (stomachache/heart pain)',\n",
       " 'touch back (backache)',\n",
       " 'touch neck (neckache)',\n",
       " 'nausea or vomiting condition',\n",
       " 'use a fan (with hand or paper)/feeling warm',\n",
       " 'punching/slapping other person',\n",
       " 'kicking other person',\n",
       " 'pushing other person',\n",
       " 'pat on back of other person',\n",
       " 'point finger at the other person',\n",
       " 'hugging other person',\n",
       " 'giving something to other person',\n",
       " \"touch other person's pocket\",\n",
       " 'handshaking',\n",
       " 'walking towards each other',\n",
       " 'walking apart from each other']"
      ]
     },
     "execution_count": 6,
     "metadata": {},
     "output_type": "execute_result"
    }
   ],
   "source": [
    "actions"
   ]
  },
  {
   "cell_type": "code",
   "execution_count": 7,
   "metadata": {},
   "outputs": [
    {
     "name": "stdout",
     "output_type": "stream",
     "text": [
      "class 0 : pickup\n",
      "class 1 : throw\n",
      "class 2 : sitting down\n",
      "class 3 : standing up (from sitting position)\n",
      "class 4 : take off jacket\n",
      "class 5 : reach into pocket\n",
      "class 6 : pointing to something with finger\n",
      "class 7 : check time (from watch)\n",
      "class 8 : falling\n"
     ]
    }
   ],
   "source": [
    "classes = [5, 6, 7, 8, 14, 24, 30, 32, 42]\n",
    "for i,elem in enumerate(classes):\n",
    "    print(\"class {} : {}\".format(i, actions[elem]))"
   ]
  },
  {
   "cell_type": "code",
   "execution_count": 8,
   "metadata": {},
   "outputs": [],
   "source": [
    "class HumanActionDataset(Dataset):\n",
    "\n",
    "    def __init__(self, data_dir, data_files, classes):\n",
    "        self.data_dir = data_dir\n",
    "        self.data_files = []\n",
    "        for data_file in data_files:\n",
    "            if int(data_file[17:-4])-1 in classes:\n",
    "                self.data_files = self.data_files + [data_file]\n",
    "        self.classes = classes\n",
    "\n",
    "    def __len__(self):\n",
    "        return len(self.data_files)\n",
    "\n",
    "    def __getitem__(self, idx):\n",
    "        tensor = torch.Tensor(np.load(self.data_dir + self.data_files[idx]))\n",
    "        tensor = tensor.reshape((tensor.shape[0], 75))\n",
    "        label = int(self.data_files[idx][17:-4])-1\n",
    "        label = self.classes.index(label)\n",
    "        return (tensor, label)"
   ]
  },
  {
   "cell_type": "code",
   "execution_count": 9,
   "metadata": {},
   "outputs": [],
   "source": [
    "HAD = HumanActionDataset(data_dir, data_files, classes)"
   ]
  },
  {
   "cell_type": "markdown",
   "metadata": {},
   "source": [
    "___"
   ]
  },
  {
   "cell_type": "markdown",
   "metadata": {},
   "source": [
    "## **2. Analysis**"
   ]
  },
  {
   "cell_type": "markdown",
   "metadata": {},
   "source": [
    "### *2.1. General Overview*"
   ]
  },
  {
   "cell_type": "code",
   "execution_count": 10,
   "metadata": {},
   "outputs": [],
   "source": [
    "general_info = [(i, HAD[i][0].shape[0], HAD[i][1]) for i in range(len(HAD))]\n",
    "general_dataframe = pd.DataFrame(data=general_info, columns=[\"id\", \"nb_frame\", \"action_class\"])"
   ]
  },
  {
   "cell_type": "markdown",
   "metadata": {},
   "source": [
    "#### *2.1.A. Number of frames per represented classes*"
   ]
  },
  {
   "cell_type": "markdown",
   "metadata": {},
   "source": [
    "For a given action class:\n",
    "* ***count**: number of sample*\n",
    "* ***mean**: mean number of frames*\n",
    "* ***std**: standard deviation*\n",
    "* ***min**: minimum number of frames*\n",
    "* ***25%**: 1st quartile for the number of frames*\n",
    "* ***50%**: median number of frames*\n",
    "* ***75%**: 3rd quartile for the number of frames*\n",
    "* ***max**: maximum number of frames*"
   ]
  },
  {
   "cell_type": "code",
   "execution_count": 14,
   "metadata": {},
   "outputs": [
    {
     "name": "stdout",
     "output_type": "stream",
     "text": [
      "action: pickup\n"
     ]
    },
    {
     "data": {
      "text/plain": [
       "count    914.000000\n",
       "mean      81.181619\n",
       "std       13.367821\n",
       "min       54.000000\n",
       "25%       72.000000\n",
       "50%       81.000000\n",
       "75%       90.000000\n",
       "max      131.000000\n",
       "Name: nb_frame, dtype: float64"
      ]
     },
     "metadata": {},
     "output_type": "display_data"
    },
    {
     "name": "stdout",
     "output_type": "stream",
     "text": [
      "------------------------------\n",
      "action: throw\n"
     ]
    },
    {
     "data": {
      "text/plain": [
       "count    914.000000\n",
       "mean      63.861050\n",
       "std       12.603714\n",
       "min       37.000000\n",
       "25%       55.000000\n",
       "50%       62.000000\n",
       "75%       71.000000\n",
       "max      136.000000\n",
       "Name: nb_frame, dtype: float64"
      ]
     },
     "metadata": {},
     "output_type": "display_data"
    },
    {
     "name": "stdout",
     "output_type": "stream",
     "text": [
      "------------------------------\n",
      "action: sitting down\n"
     ]
    },
    {
     "data": {
      "text/plain": [
       "count    900.000000\n",
       "mean      74.376667\n",
       "std       14.044792\n",
       "min       46.000000\n",
       "25%       65.000000\n",
       "50%       74.000000\n",
       "75%       84.000000\n",
       "max      119.000000\n",
       "Name: nb_frame, dtype: float64"
      ]
     },
     "metadata": {},
     "output_type": "display_data"
    },
    {
     "name": "stdout",
     "output_type": "stream",
     "text": [
      "------------------------------\n",
      "action: standing up (from sitting position)\n"
     ]
    },
    {
     "data": {
      "text/plain": [
       "count    916.000000\n",
       "mean      63.528384\n",
       "std       11.743165\n",
       "min       39.000000\n",
       "25%       54.750000\n",
       "50%       63.000000\n",
       "75%       71.000000\n",
       "max      120.000000\n",
       "Name: nb_frame, dtype: float64"
      ]
     },
     "metadata": {},
     "output_type": "display_data"
    },
    {
     "name": "stdout",
     "output_type": "stream",
     "text": [
      "------------------------------\n",
      "action: take off jacket\n"
     ]
    },
    {
     "data": {
      "text/plain": [
       "count    919.000000\n",
       "mean     140.899891\n",
       "std       34.055011\n",
       "min       66.000000\n",
       "25%      117.000000\n",
       "50%      138.000000\n",
       "75%      159.000000\n",
       "max      277.000000\n",
       "Name: nb_frame, dtype: float64"
      ]
     },
     "metadata": {},
     "output_type": "display_data"
    },
    {
     "name": "stdout",
     "output_type": "stream",
     "text": [
      "------------------------------\n",
      "action: reach into pocket\n"
     ]
    },
    {
     "data": {
      "text/plain": [
       "count    907.000000\n",
       "mean      97.624035\n",
       "std       23.331823\n",
       "min       54.000000\n",
       "25%       82.000000\n",
       "50%       95.000000\n",
       "75%      109.000000\n",
       "max      202.000000\n",
       "Name: nb_frame, dtype: float64"
      ]
     },
     "metadata": {},
     "output_type": "display_data"
    },
    {
     "name": "stdout",
     "output_type": "stream",
     "text": [
      "------------------------------\n",
      "action: pointing to something with finger\n"
     ]
    },
    {
     "data": {
      "text/plain": [
       "count    903.000000\n",
       "mean      55.933555\n",
       "std       11.475705\n",
       "min       32.000000\n",
       "25%       48.000000\n",
       "50%       54.000000\n",
       "75%       63.000000\n",
       "max      110.000000\n",
       "Name: nb_frame, dtype: float64"
      ]
     },
     "metadata": {},
     "output_type": "display_data"
    },
    {
     "name": "stdout",
     "output_type": "stream",
     "text": [
      "------------------------------\n",
      "action: check time (from watch)\n"
     ]
    },
    {
     "data": {
      "text/plain": [
       "count    906.000000\n",
       "mean      63.618102\n",
       "std       14.124618\n",
       "min       36.000000\n",
       "25%       54.000000\n",
       "50%       62.000000\n",
       "75%       71.000000\n",
       "max      128.000000\n",
       "Name: nb_frame, dtype: float64"
      ]
     },
     "metadata": {},
     "output_type": "display_data"
    },
    {
     "name": "stdout",
     "output_type": "stream",
     "text": [
      "------------------------------\n",
      "action: falling\n"
     ]
    },
    {
     "data": {
      "text/plain": [
       "count    890.000000\n",
       "mean      63.823596\n",
       "std       12.534735\n",
       "min       40.000000\n",
       "25%       56.000000\n",
       "50%       62.000000\n",
       "75%       71.000000\n",
       "max      139.000000\n",
       "Name: nb_frame, dtype: float64"
      ]
     },
     "metadata": {},
     "output_type": "display_data"
    },
    {
     "name": "stdout",
     "output_type": "stream",
     "text": [
      "------------------------------\n"
     ]
    }
   ],
   "source": [
    "for i in range(9):\n",
    "    print(\"action: {}\".format(actions[classes[i]]))\n",
    "    display(general_dataframe[general_dataframe[\"action_class\"] == i][\"nb_frame\"].describe())\n",
    "    print(\"-\"*30)"
   ]
  },
  {
   "cell_type": "markdown",
   "metadata": {},
   "source": [
    "#### *2.1.b. Joints*"
   ]
  }
 ],
 "metadata": {
  "interpreter": {
   "hash": "118508df3531a4baef22a353ae7891686b2f0c3ff24a04c6bb67baeaff15e974"
  },
  "kernelspec": {
   "display_name": "Python 3.9.6 64-bit",
   "language": "python",
   "name": "python3"
  },
  "language_info": {
   "codemirror_mode": {
    "name": "ipython",
    "version": 3
   },
   "file_extension": ".py",
   "mimetype": "text/x-python",
   "name": "python",
   "nbconvert_exporter": "python",
   "pygments_lexer": "ipython3",
   "version": "3.9.6"
  },
  "orig_nbformat": 4
 },
 "nbformat": 4,
 "nbformat_minor": 2
}
