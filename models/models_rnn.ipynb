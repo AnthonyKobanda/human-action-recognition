{
 "cells": [
  {
   "cell_type": "markdown",
   "metadata": {},
   "source": [
    "# **RNN Models for Human Action Recognition**"
   ]
  },
  {
   "cell_type": "markdown",
   "metadata": {},
   "source": [
    "Here are the models implemented, trained and analyzed in this notebook:\n",
    "* LSTM"
   ]
  },
  {
   "cell_type": "markdown",
   "metadata": {},
   "source": [
    "___\n",
    "___"
   ]
  },
  {
   "cell_type": "markdown",
   "metadata": {},
   "source": [
    "## **1. INITIALIZATION**"
   ]
  },
  {
   "cell_type": "markdown",
   "metadata": {},
   "source": [
    "### *1.1. IMPORT*"
   ]
  },
  {
   "cell_type": "code",
   "execution_count": 1,
   "metadata": {},
   "outputs": [],
   "source": [
    "from IPython.display import display\n",
    "from sklearn.metrics import confusion_matrix, ConfusionMatrixDisplay\n",
    "from tqdm import tqdm\n",
    "\n",
    "import matplotlib.pyplot as plt\n",
    "import numpy as np\n",
    "import os\n",
    "import pandas as pd\n",
    "import random as rd\n",
    "import time\n",
    "\n",
    "from torch.utils.data import Dataset, DataLoader\n",
    "from torchvision import transforms, utils\n",
    "\n",
    "import torch\n",
    "import torch.nn as nn"
   ]
  },
  {
   "cell_type": "code",
   "execution_count": 2,
   "metadata": {},
   "outputs": [
    {
     "data": {
      "text/html": [
       "<details>\n",
       "<summary>Click to view session information</summary>\n",
       "<pre>\n",
       "-----\n",
       "matplotlib          3.4.3\n",
       "numpy               1.21.4\n",
       "pandas              1.3.4\n",
       "session_info        1.0.0\n",
       "sklearn             1.0.1\n",
       "torch               1.10.0+cu102\n",
       "torchvision         0.11.1+cu102\n",
       "tqdm                4.62.3\n",
       "-----\n",
       "</pre>\n",
       "<details>\n",
       "<summary>Click to view modules imported as dependencies</summary>\n",
       "<pre>\n",
       "PIL                         8.4.0\n",
       "astunparse                  1.6.3\n",
       "backcall                    0.2.0\n",
       "beta_ufunc                  NA\n",
       "binom_ufunc                 NA\n",
       "cffi                        1.15.0\n",
       "colorama                    0.4.4\n",
       "cycler                      0.10.0\n",
       "cython_runtime              NA\n",
       "dateutil                    2.8.2\n",
       "debugpy                     1.4.3\n",
       "decorator                   5.1.0\n",
       "defusedxml                  0.7.1\n",
       "entrypoints                 0.3\n",
       "google                      NA\n",
       "ipykernel                   6.4.1\n",
       "ipython_genutils            0.2.0\n",
       "jedi                        0.18.0\n",
       "joblib                      1.1.0\n",
       "kiwisolver                  1.3.2\n",
       "matplotlib_inline           NA\n",
       "mpl_toolkits                NA\n",
       "nbinom_ufunc                NA\n",
       "nt                          NA\n",
       "ntsecuritycon               NA\n",
       "parso                       0.8.2\n",
       "pickleshare                 0.7.5\n",
       "pkg_resources               NA\n",
       "prompt_toolkit              3.0.20\n",
       "psutil                      5.8.0\n",
       "pydev_ipython               NA\n",
       "pydevconsole                NA\n",
       "pydevd                      2.4.1\n",
       "pydevd_concurrency_analyser NA\n",
       "pydevd_file_utils           NA\n",
       "pydevd_plugins              NA\n",
       "pydevd_tracing              NA\n",
       "pyexpat                     NA\n",
       "pygments                    2.10.0\n",
       "pyparsing                   3.0.6\n",
       "pythoncom                   NA\n",
       "pytz                        2021.3\n",
       "pywin32_bootstrap           NA\n",
       "pywin32_system32            NA\n",
       "pywintypes                  NA\n",
       "scipy                       1.7.2\n",
       "six                         1.16.0\n",
       "storemagic                  NA\n",
       "threadpoolctl               3.0.0\n",
       "tornado                     6.1\n",
       "traitlets                   5.1.0\n",
       "typing_extensions           NA\n",
       "wcwidth                     0.2.5\n",
       "win32api                    NA\n",
       "win32com                    NA\n",
       "win32security               NA\n",
       "zmq                         22.3.0\n",
       "</pre>\n",
       "</details> <!-- seems like this ends pre, so might as well be explicit -->\n",
       "<pre>\n",
       "-----\n",
       "IPython             7.29.0\n",
       "jupyter_client      7.0.2\n",
       "jupyter_core        4.7.1\n",
       "notebook            6.4.3\n",
       "-----\n",
       "Python 3.9.6 (tags/v3.9.6:db3ff76, Jun 28 2021, 15:26:21) [MSC v.1929 64 bit (AMD64)]\n",
       "Windows-10-10.0.22000-SP0\n",
       "-----\n",
       "Session information updated at 2021-11-30 16:31\n",
       "</pre>\n",
       "</details>"
      ],
      "text/plain": [
       "<IPython.core.display.HTML object>"
      ]
     },
     "execution_count": 2,
     "metadata": {},
     "output_type": "execute_result"
    }
   ],
   "source": [
    "# to fill the requirement.txt file we use the following line of code:\n",
    "import session_info\n",
    "session_info.show()"
   ]
  },
  {
   "cell_type": "code",
   "execution_count": 3,
   "metadata": {},
   "outputs": [
    {
     "name": "stdout",
     "output_type": "stream",
     "text": [
      "device: cuda\n"
     ]
    }
   ],
   "source": [
    "# setting device on GPU if available, else CPU\n",
    "device = torch.device('cuda' if torch.cuda.is_available() else 'cpu')\n",
    "print(\"device: {}\".format(device))"
   ]
  },
  {
   "cell_type": "markdown",
   "metadata": {},
   "source": [
    "### *1.2. DATA LOADING*"
   ]
  },
  {
   "cell_type": "code",
   "execution_count": 55,
   "metadata": {},
   "outputs": [],
   "source": [
    "data_dir = \"../data/nturgb+d_skeletons_cleaned/\"\n",
    "data_files = os.listdir(data_dir)"
   ]
  },
  {
   "cell_type": "code",
   "execution_count": 72,
   "metadata": {},
   "outputs": [],
   "source": [
    "actions = {}\n",
    "with open(\"../data/actions.txt\", 'r') as actions_file:\n",
    "    for i,line in enumerate(actions_file.readlines()):\n",
    "        actions[i] = line.replace('\\n', '').split('.')[-1][1:]\n",
    "    actions_file.close()"
   ]
  },
  {
   "cell_type": "code",
   "execution_count": 150,
   "metadata": {},
   "outputs": [],
   "source": [
    "class HumanActionDataset(Dataset):\n",
    "\n",
    "    def __init__(self, data_dir, data_files, classes):\n",
    "        self.data_dir = data_dir\n",
    "        self.data_files = []\n",
    "        for data_file in data_files:\n",
    "            if int(data_file[17:-4])-1 in classes:\n",
    "                self.data_files = self.data_files + [data_file]\n",
    "        self.classes = classes\n",
    "\n",
    "    def __len__(self):\n",
    "        return len(self.data_files)\n",
    "\n",
    "    def __getitem__(self, idx):\n",
    "        tensor = torch.Tensor(np.load(self.data_dir + self.data_files[idx]))\n",
    "        tensor = tensor.reshape((tensor.shape[0], 75))\n",
    "        label = int(self.data_files[idx][17:-4])-1\n",
    "        label = self.classes.index(label)\n",
    "        return (tensor, label)"
   ]
  },
  {
   "cell_type": "markdown",
   "metadata": {},
   "source": [
    "Use PyTorch’s DataLoader with Variable Length Sequences for LSTM/GRU : from this [article](https://www.codefull.net/2018/11/use-pytorchs-dataloader-with-variable-length-sequences-for-lstm-gru/)."
   ]
  },
  {
   "cell_type": "code",
   "execution_count": 151,
   "metadata": {},
   "outputs": [],
   "source": [
    "class PadSequence():\n",
    "\n",
    "    def __call__(self, batch):\n",
    "\n",
    "        # let's assume that each element in \"batch\" is a tuple (data, label).\n",
    "        # sort the batch in the descending order\n",
    "        sorted_batch = sorted(batch, key=lambda x: x[0].shape[0], reverse=True)\n",
    "        \n",
    "        # get each sequence and pad it\n",
    "        sequences = [x[0] for x in sorted_batch]\n",
    "        sequences_padded = torch.nn.utils.rnn.pad_sequence(sequences, batch_first=True)\n",
    "\n",
    "        lengths = torch.LongTensor([len(x) for x in sequences])\n",
    "\n",
    "        # don't forget to grab the labels of the *sorted* batch\n",
    "        labels = torch.LongTensor([x[1] for x in sorted_batch])\n",
    "        return sequences_padded, lengths, labels\n"
   ]
  },
  {
   "cell_type": "code",
   "execution_count": 152,
   "metadata": {},
   "outputs": [
    {
     "name": "stdout",
     "output_type": "stream",
     "text": [
      "class 43 : touch head (headache)\n",
      "class 44 : touch chest (stomachache/heart pain)\n",
      "class 45 : touch back (backache)\n",
      "class 46 : touch neck (neckache)\n"
     ]
    }
   ],
   "source": [
    "classes = [43, 44, 45, 46] # from 0 to 59\n",
    "for elem in classes:\n",
    "    print(\"class {} : {}\".format(elem, actions[elem]))"
   ]
  },
  {
   "cell_type": "code",
   "execution_count": 153,
   "metadata": {},
   "outputs": [],
   "source": [
    "HAD = HumanActionDataset(data_dir, data_files, classes)"
   ]
  },
  {
   "cell_type": "code",
   "execution_count": 159,
   "metadata": {},
   "outputs": [
    {
     "data": {
      "text/plain": [
       "(tensor([[-0.0204,  0.0348,  3.4057,  ...,  0.1238, -0.0308,  3.2376],\n",
       "         [-0.0208,  0.0349,  3.4058,  ...,  0.1286, -0.0452,  3.2232],\n",
       "         [-0.0212,  0.0349,  3.4059,  ...,  0.1161, -0.0193,  3.2478],\n",
       "         ...,\n",
       "         [-0.0398,  0.0226,  3.3843,  ...,  0.1273,  0.2472,  3.2890],\n",
       "         [-0.0383,  0.0232,  3.3798,  ...,  0.1300,  0.2618,  3.2990],\n",
       "         [-0.0370,  0.0226,  3.3778,  ...,  0.1290,  0.2579,  3.2875]]),\n",
       " 2)"
      ]
     },
     "execution_count": 159,
     "metadata": {},
     "output_type": "execute_result"
    }
   ],
   "source": [
    "HAD[10]"
   ]
  },
  {
   "cell_type": "code",
   "execution_count": 164,
   "metadata": {},
   "outputs": [],
   "source": [
    "train_dataset, val_dataset = torch.utils.data.random_split(HAD, [int(0.80*len(HAD)), len(HAD)-int(0.80*len(HAD))])"
   ]
  },
  {
   "cell_type": "code",
   "execution_count": 243,
   "metadata": {},
   "outputs": [],
   "source": [
    "train_dataloader = torch.utils.data.DataLoader(dataset=train_dataset, batch_size=32, collate_fn=PadSequence(), shuffle=True)\n",
    "val_dataloader = torch.utils.data.DataLoader(dataset=val_dataset, batch_size=32, collate_fn=PadSequence(), shuffle=True)"
   ]
  },
  {
   "cell_type": "markdown",
   "metadata": {},
   "source": [
    "### *1.3 AUXILIARY FUNCTIONS*"
   ]
  },
  {
   "cell_type": "code",
   "execution_count": 244,
   "metadata": {},
   "outputs": [],
   "source": [
    "def train_model(model, criterion, optimizer, nb_epochs, epoch_print_frequence):\n",
    "\n",
    "    s = time.time()\n",
    "\n",
    "    train_losses, val_losses, train_accs, val_accs = [], [], [], []\n",
    "\n",
    "    for epoch in range(nb_epochs):\n",
    "\n",
    "        running_loss_train, running_loss_val, running_acc_train, running_acc_val = 0, 0, 0, 0\n",
    "\n",
    "        for train in [True, False]:\n",
    "\n",
    "            if train:\n",
    "                dataloader = train_dataloader\n",
    "                model.train()\n",
    "            else:\n",
    "                dataloader = val_dataloader\n",
    "                model.eval()\n",
    "\n",
    "            for data in dataloader:\n",
    "                \n",
    "                inputs = data[0].to(device)\n",
    "                labels_raw = data[-1]\n",
    "                labels = torch.zeros((inputs.shape[0], len(classes)))\n",
    "                for i in range(len(labels_raw)):\n",
    "                    labels[i][int(labels_raw[i])] = 1\n",
    "                labels = labels.to(device)\n",
    "\n",
    "                if train:\n",
    "                    optimizer.zero_grad()\n",
    "\n",
    "                outputs = model(inputs)\n",
    "                loss = criterion(outputs, labels)\n",
    "\n",
    "                if train:\n",
    "                    loss.backward()\n",
    "                    optimizer.step()\n",
    "                    running_loss_train += loss.item()\n",
    "                    running_acc_train += int(torch.sum(outputs.argmax(dim=1) == labels.argmax(dim=1)))\n",
    "                else:\n",
    "                    running_loss_val += loss.item()\n",
    "                    running_acc_val += int(torch.sum(outputs.argmax(dim=1) == labels.argmax(dim=1)))\n",
    "\n",
    "        running_loss_train /= len(train_dataloader)\n",
    "        running_loss_val /= len(val_dataloader)\n",
    "        running_acc_train /= len(train_dataset)\n",
    "        running_acc_val /= len(val_dataset)\n",
    "\n",
    "        train_losses.append(running_loss_train)\n",
    "        val_losses.append(running_loss_val)\n",
    "        train_accs.append(running_acc_train)\n",
    "        val_accs.append(running_acc_val)\n",
    "\n",
    "        if (epoch+1) % epoch_print_frequence == 0:\n",
    "            print(\"epochs {} ({} s) | train loss : {} | val loss : {} | train acc : {} | val acc : {}\".format(\n",
    "                epoch+1,\n",
    "                int(time.time()-s),\n",
    "                int(1000000*running_loss_train)/1000000,\n",
    "                int(1000000*running_loss_val)/1000000,\n",
    "                int(1000000*running_acc_train)/1000000,\n",
    "                int(1000000*running_acc_val)/1000000\n",
    "            ))\n",
    "    \n",
    "    return train_losses, val_losses, train_accs, val_accs"
   ]
  },
  {
   "cell_type": "markdown",
   "metadata": {},
   "source": [
    "___"
   ]
  },
  {
   "cell_type": "markdown",
   "metadata": {},
   "source": [
    "## **2. THE MODELS**"
   ]
  },
  {
   "cell_type": "markdown",
   "metadata": {},
   "source": [
    "### *2.1. LSTM*"
   ]
  },
  {
   "cell_type": "code",
   "execution_count": 245,
   "metadata": {},
   "outputs": [],
   "source": [
    "class LSTM0(nn.Module):\n",
    "\n",
    "    def __init__(self, nb_classes, input_size, hidden_size, num_layers, device):\n",
    "\n",
    "        super(LSTM0, self).__init__()\n",
    "\n",
    "        self.num_classes = nb_classes   # number of classes\n",
    "        self.num_layers = num_layers    # number of layers\n",
    "        self.input_size = input_size    # input size\n",
    "        self.hidden_size = hidden_size  # hidden state\n",
    "        self.device = device\n",
    "\n",
    "        self.lstm = nn.LSTM(input_size=input_size, hidden_size=hidden_size, num_layers=num_layers, batch_first=True) # lstm\n",
    "        self.classifier = nn.Sequential(\n",
    "            nn.Linear(hidden_size, 128),\n",
    "            nn.ReLU(),\n",
    "            nn.Linear(128, nb_classes),\n",
    "            nn.Softmax(dim=1)\n",
    "        )\n",
    "\n",
    "    def forward(self,x):\n",
    "\n",
    "        h_0 = torch.zeros(self.num_layers, x.size(0), self.hidden_size).to(self.device) # hidden state (short memory)\n",
    "        c_0 = torch.zeros(self.num_layers, x.size(0), self.hidden_size).to(self.device) # internal state (long memory)\n",
    "        \n",
    "        _, (hn, cn) = self.lstm(x, (h_0, c_0))\n",
    "        hn = hn.view(-1, self.hidden_size) # reshaping the data for clasifier\n",
    "        return self.classifier(hn)"
   ]
  },
  {
   "cell_type": "code",
   "execution_count": 246,
   "metadata": {},
   "outputs": [
    {
     "data": {
      "text/plain": [
       "LSTM0(\n",
       "  (lstm): LSTM(75, 256, batch_first=True)\n",
       "  (classifier): Sequential(\n",
       "    (0): Linear(in_features=256, out_features=128, bias=True)\n",
       "    (1): ReLU()\n",
       "    (2): Linear(in_features=128, out_features=4, bias=True)\n",
       "    (3): Softmax(dim=1)\n",
       "  )\n",
       ")"
      ]
     },
     "execution_count": 246,
     "metadata": {},
     "output_type": "execute_result"
    }
   ],
   "source": [
    "model_LSTM0 = LSTM0(nb_classes=len(classes), input_size=75, hidden_size=256, num_layers=1, device=device)\n",
    "model_LSTM0.to(device)\n",
    "model_LSTM0.eval()"
   ]
  },
  {
   "cell_type": "code",
   "execution_count": 247,
   "metadata": {},
   "outputs": [],
   "source": [
    "criterion_LSTM0 = nn.CrossEntropyLoss()\n",
    "optimizer_LSTM0 = torch.optim.Adam(params=model_LSTM0.parameters(), lr=1e-3)\n",
    "nb_epochs = 100\n",
    "epoch_print_frequence = 10\n",
    "\n",
    "# filtrer selon le nb de frame\n",
    "# se limiter à un set limite d'actions\n",
    "# tester moins de keypoints"
   ]
  },
  {
   "cell_type": "code",
   "execution_count": 248,
   "metadata": {},
   "outputs": [
    {
     "name": "stdout",
     "output_type": "stream",
     "text": [
      "epochs 10 (33 s) | train loss : 1.380876 | val loss : 1.378775 | train acc : 0.275331 | val acc : 0.252793\n",
      "epochs 20 (68 s) | train loss : 1.257725 | val loss : 1.276809 | train acc : 0.439203 | val acc : 0.386871\n",
      "epochs 30 (103 s) | train loss : 1.22827 | val loss : 1.20645 | train acc : 0.486373 | val acc : 0.529329\n",
      "epochs 40 (139 s) | train loss : 1.236481 | val loss : 1.197258 | train acc : 0.475192 | val acc : 0.547486\n",
      "epochs 50 (175 s) | train loss : 1.207429 | val loss : 1.201721 | train acc : 0.520265 | val acc : 0.518156\n",
      "epochs 60 (211 s) | train loss : 1.219775 | val loss : 1.217768 | train acc : 0.500698 | val acc : 0.488826\n",
      "epochs 70 (249 s) | train loss : 1.222982 | val loss : 1.190412 | train acc : 0.496156 | val acc : 0.520949\n"
     ]
    }
   ],
   "source": [
    "losses_accs_LSTM0 = train_model(model_LSTM0, criterion_LSTM0, optimizer_LSTM0, nb_epochs, epoch_print_frequence)"
   ]
  },
  {
   "cell_type": "code",
   "execution_count": null,
   "metadata": {},
   "outputs": [
    {
     "data": {
      "image/png": "[encoded data removed]",
      "text/plain": [
       "<Figure size 864x360 with 2 Axes>"
      ]
     },
     "metadata": {
      "needs_background": "light"
     },
     "output_type": "display_data"
    }
   ],
   "source": [
    "fig, ax = plt.subplots(nrows=1, ncols=2, figsize=(12,5))\n",
    "\n",
    "ax[0].set(title=\"LSTM0 loss evolution\")\n",
    "ax[0].plot(losses_accs_LSTM0[0], label=\"train\")\n",
    "ax[0].plot(losses_accs_LSTM0[1], label=\"test\")\n",
    "ax[0].set_xlabel(\"epoch\")\n",
    "ax[0].set_ylabel(\"loss\")\n",
    "\n",
    "ax[1].set(title=\"LSTM0 accuracy evolution\")\n",
    "ax[1].plot(losses_accs_LSTM0[2], label=\"train\")\n",
    "ax[1].plot(losses_accs_LSTM0[3], label=\"test\")\n",
    "ax[1].set_xlabel(\"epoch\")\n",
    "ax[1].set_ylabel(\"accuracy\")\n",
    "\n",
    "plt.legend()\n",
    "plt.show()"
   ]
  },
  {
   "cell_type": "code",
   "execution_count": null,
   "metadata": {},
   "outputs": [
    {
     "data": {
      "image/png": "[encoded data removed]",
      "text/plain": [
       "<Figure size 864x360 with 2 Axes>"
      ]
     },
     "metadata": {
      "needs_background": "light"
     },
     "output_type": "display_data"
    }
   ],
   "source": [
    "fig, ax = plt.subplots(nrows=1, ncols=2, figsize=(12,5))\n",
    "\n",
    "ax[0].set(title=\"LSTM0 loss evolution\")\n",
    "ax[0].plot(losses_accs_LSTM0[0], label=\"train\")\n",
    "ax[0].plot(losses_accs_LSTM0[1], label=\"test\")\n",
    "ax[0].set_xlabel(\"epoch\")\n",
    "ax[0].set_ylabel(\"loss\")\n",
    "\n",
    "ax[1].set(title=\"LSTM0 accuracy evolution\")\n",
    "ax[1].plot(losses_accs_LSTM0[2], label=\"train\")\n",
    "ax[1].plot(losses_accs_LSTM0[3], label=\"test\")\n",
    "ax[1].set_xlabel(\"epoch\")\n",
    "ax[1].set_ylabel(\"accuracy\")\n",
    "\n",
    "plt.legend()\n",
    "plt.show()"
   ]
  },
  {
   "cell_type": "code",
   "execution_count": null,
   "metadata": {},
   "outputs": [],
   "source": []
  }
 ],
 "metadata": {
  "interpreter": {
   "hash": "118508df3531a4baef22a353ae7891686b2f0c3ff24a04c6bb67baeaff15e974"
  },
  "kernelspec": {
   "display_name": "Python 3.9.6 64-bit",
   "language": "python",
   "name": "python3"
  },
  "language_info": {
   "codemirror_mode": {
    "name": "ipython",
    "version": 3
   },
   "file_extension": ".py",
   "mimetype": "text/x-python",
   "name": "python",
   "nbconvert_exporter": "python",
   "pygments_lexer": "ipython3",
   "version": "3.9.6"
  },
  "orig_nbformat": 4
 },
 "nbformat": 4,
 "nbformat_minor": 2
}
