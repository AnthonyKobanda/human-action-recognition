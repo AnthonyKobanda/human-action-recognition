{
 "cells": [
  {
   "cell_type": "markdown",
   "id": "622385b0",
   "metadata": {},
   "source": [
    "# Skeleton to 2D images"
   ]
  },
  {
   "cell_type": "markdown",
   "id": "d39d2a72",
   "metadata": {},
   "source": [
    "Transform the data from 3d points skeleton to 2d images with depth"
   ]
  },
  {
   "cell_type": "markdown",
   "id": "b92fc3b3",
   "metadata": {},
   "source": [
    "## Load data"
   ]
  },
  {
   "cell_type": "code",
   "execution_count": 10,
   "id": "fc3125f8",
   "metadata": {},
   "outputs": [
    {
     "name": "stdout",
     "output_type": "stream",
     "text": [
      "C:\\Users\\Intel\\Documents\\@M2\\Idemia\\human-action-recognition\\data\\nturgbd_skeletons\n"
     ]
    }
   ],
   "source": [
    "cd data/nturgbd_skeletons_s001_to_s017/"
   ]
  },
  {
   "cell_type": "code",
   "execution_count": 32,
   "id": "c73a137f",
   "metadata": {},
   "outputs": [],
   "source": [
    "import numpy as np\n",
    "import matplotlib.pyplot as plt\n",
    "from scipy.spatial.transform import Rotation as R\n",
    "from PIL import Image, ImageDraw\n",
    "import os\n",
    "from tqdm import tqdm"
   ]
  },
  {
   "cell_type": "code",
   "execution_count": 4,
   "id": "2b1d8424",
   "metadata": {},
   "outputs": [],
   "source": [
    "bust_joints = [0, 1, 20, 2, 3]\n",
    "right_arm_joint = [23, 24, 11, 10, 9, 8]\n",
    "left_arm_joint = [21, 22, 7, 6, 5, 4]\n",
    "arm_joints = [23, 24, 11, 10, 9, 8, 20, 4, 5, 6, 7, 22, 21]\n",
    "right_leg_joints = []\n",
    "left_leg_joints = []\n",
    "leg_joints = [19, 18, 17, 16, 0, 12, 13, 14, 15]\n",
    "\n",
    "body_joints = [bust_joints, arm_joints, leg_joints]"
   ]
  },
  {
   "cell_type": "code",
   "execution_count": 5,
   "id": "659b1740",
   "metadata": {},
   "outputs": [],
   "source": [
    "def get_skeleton_info(file):\n",
    "    \"\"\"\n",
    "    Read the .skeleton files and process the data\n",
    "    \n",
    "    Example of output:\n",
    "    {'numb_of_frames': 103, \n",
    "     'frame_info': [{'numb_of_skeletons': 1, \n",
    "                     'skeleton_info': [{'numb_of_joints': 25, \n",
    "                                        'joint_info': [{'x': 0.2181153, 'y': 0.1725972, 'z': 3.785547, \n",
    "                                                        'depthX': 277.419, 'depthY': 191.8218, \n",
    "                                                        'colorX': 1036.233, 'colorY': 519.1677, \n",
    "                                                        'orientationW': -0.2059419, 'orientationX': 0.05349901, \n",
    "                                                        'orientationY': 0.9692109, 'orientationZ': -0.1239193, \n",
    "                                                        'trackingState': 2.0}, \n",
    "                                                       {'x': 0.2323292, 'y': 0.4326636, 'z': 3.714767, ...} ...]\n",
    "    \"\"\"\n",
    "\n",
    "    with open(file, 'r') as f:\n",
    "        skeleton_sequence = {}\n",
    "        skeleton_sequence['numb_of_frames'] = int(f.readline())\n",
    "        skeleton_sequence['frame_info'] = []\n",
    "        # typically: skeleton_sequence = {'numb_of_frames': 103, 'frame_info': []}\n",
    "\n",
    "        for frame in range(skeleton_sequence['numb_of_frames']):\n",
    "            frame_info = {}\n",
    "            frame_info['numb_of_skeletons'] = int(f.readline())\n",
    "            frame_info['skeleton_info'] = []\n",
    "            # typically: frame_info = {'numb_of_skeletons': 1, 'skeleton_info': []}\n",
    "\n",
    "            for m in range(frame_info['numb_of_skeletons']):\n",
    "                #print(f\"    \\u21FE m = {m}\")\n",
    "                skeleton_info = {}\n",
    "                skeleton_info_key = ['bodyID', 'clipedEdges', 'handLeftConfidence','handLeftState', 'handRightConfidence', 'handRightState','isResticted', 'leanX', 'leanY', 'trackingState']\n",
    "                skeleton_info_info = {\n",
    "                    k: float(v)\n",
    "                    for k, v in zip(skeleton_info_key, f.readline().split())\n",
    "                }\n",
    "                skeleton_info['numb_of_joints'] = int(f.readline())\n",
    "                skeleton_info['joint_info'] = []\n",
    "                #print(f\"    \\u25AA skeleton_info = {skeleton_info}\")\n",
    "\n",
    "                for v in range(skeleton_info['numb_of_joints']):\n",
    "                    joint_info_key = ['x', 'y', 'z', 'depthX', 'depthY', 'colorX', 'colorY','orientationW', 'orientationX', 'orientationY','orientationZ', 'trackingState']\n",
    "                    joint_info = {\n",
    "                        k: float(v)\n",
    "                        for k, v in zip(joint_info_key, f.readline().split())\n",
    "                    }\n",
    "                    skeleton_info['joint_info'].append(joint_info)\n",
    "                frame_info['skeleton_info'].append(skeleton_info)\n",
    "                #print(f\"skeleton_info = {skeleton_info}\")\n",
    "\n",
    "            skeleton_sequence['frame_info'].append(frame_info)\n",
    "            #print(f\"skeleton_sequence = {skeleton_sequence}\")\n",
    "    return skeleton_sequence\n",
    "\n",
    "def get_pixels(skeleton):\n",
    "    data = np.zeros((skeleton['numb_of_frames'], 25, 3))  # (3,frame_nums,25 2)\n",
    "    for n, f in enumerate(skeleton['frame_info']):\n",
    "        for m, b in enumerate(f['skeleton_info']):\n",
    "            for j, v in enumerate(b['joint_info']):\n",
    "                if j < 25:\n",
    "                    data[n, j] = [int(v['colorX']), int(v['colorY']), v['z']]\n",
    "                else:\n",
    "                    pass\n",
    "    #print(f\"\\u25A0 data = {data}\\ndata.shape = {data.shape}\")\n",
    "#     np.save(\"./data_to_get_rid_of\", data)\n",
    "    return data\n",
    "\n",
    "\n",
    "def normalize_z(skeleton):\n",
    "    # get pixels but also normalize the depth between 0 and 1\n",
    "    sklt_pixels = get_pixels(skeleton)\n",
    "    mini = sklt_pixels[:,:,2].min()\n",
    "    maxi = sklt_pixels[:,:,2].max()\n",
    "#     print(maxi)\n",
    "    sklt_pixels[:,:,2] = (sklt_pixels[:,:,2]-mini)/(maxi-mini)\n",
    "    return sklt_pixels"
   ]
  },
  {
   "cell_type": "code",
   "execution_count": 111,
   "id": "86209e63",
   "metadata": {
    "scrolled": true
   },
   "outputs": [
    {
     "name": "stdout",
     "output_type": "stream",
     "text": [
      "1.0\n"
     ]
    },
    {
     "data": {
      "image/png": "[encoded data removed]",
      "text/plain": [
       "<Figure size 432x288 with 1 Axes>"
      ]
     },
     "metadata": {
      "needs_background": "light"
     },
     "output_type": "display_data"
    }
   ],
   "source": [
    "skeleton = get_skeleton_info('S001C001P001R001A015.skeleton')\n",
    "sklt_pixels = get_pixels(skeleton)\n",
    "sklt_pixels = normalize_z(skeleton)\n",
    "print(sklt_pixels[:,:,2].max())\n",
    "plt.hist(sklt_pixels[:,:,2].flatten())\n",
    "plt.show()"
   ]
  },
  {
   "cell_type": "markdown",
   "id": "839d045f",
   "metadata": {},
   "source": [
    "## Create Image"
   ]
  },
  {
   "cell_type": "code",
   "execution_count": 112,
   "id": "7e050413",
   "metadata": {},
   "outputs": [
    {
     "data": {
      "text/plain": [
       "[[0, 1, 20, 2, 3],\n",
       " [23, 24, 11, 10, 9, 8, 20, 4, 5, 6, 7, 22, 21],\n",
       " [19, 18, 17, 16, 0, 12, 13, 14, 15]]"
      ]
     },
     "execution_count": 112,
     "metadata": {},
     "output_type": "execute_result"
    }
   ],
   "source": [
    "body_joints"
   ]
  },
  {
   "cell_type": "code",
   "execution_count": 113,
   "id": "3b7c2520",
   "metadata": {},
   "outputs": [
    {
     "data": {
      "image/png": "[encoded data removed]",
      "text/plain": [
       "<PIL.Image.Image image mode=RGB size=1920x1080 at 0x1BF06F8EDF0>"
      ]
     },
     "execution_count": 113,
     "metadata": {},
     "output_type": "execute_result"
    }
   ],
   "source": [
    "def create_sklt(frame):\n",
    "    # create the skeleton for a given frame\n",
    "    img = Image.new('RGB', (1920,1080 ), color = 'black')\n",
    "    for body_part in body_joints:\n",
    "#         ind_to_pixels = [tuple(frame[body_part[i]][:2]) for i in range(len(body_part))]\n",
    "#         draw = ImageDraw.Draw(img)\n",
    "#         draw.line(ind_to_pixels,fill=(255,0,0),width=5)\n",
    "        for i in range(len(body_part)-1):\n",
    "            a = frame[body_part[i]]\n",
    "            b = frame[body_part[i+1]]-a\n",
    "            n = 10\n",
    "#             print('a:',a)\n",
    "#             print(b)\n",
    "#             print(a+(i/n)*b\n",
    "#             break\n",
    "            line = np.array([a+(i/n)*b for i in range(n)])\n",
    "            for i in range(len(line)-1):\n",
    "                x1,y1,z = line[i]\n",
    "                x2,y2,_ = line[i+1]\n",
    "#                 img.putpixel((int(x),int(y)), (255,255,255))\n",
    "                draw = ImageDraw.Draw(img)\n",
    "                color = tuple((int(255*z),0,int(255*(1-z))))\n",
    "#                 color = (255,255,255)\n",
    "#                 print(color)\n",
    "                draw.line((x1,y1,x2,y2), fill=color,width=5)\n",
    "\n",
    "#     for joint in frame:\n",
    "#         x,y,z = joint\n",
    "#         img.putpixel((int(x),int(y)), (255,255,255))\n",
    "    return img\n",
    "\n",
    "img = create_sklt(sklt_pixels[0,:,:])\n",
    "img"
   ]
  },
  {
   "cell_type": "code",
   "execution_count": 114,
   "id": "6ec17c51",
   "metadata": {},
   "outputs": [],
   "source": [
    "def create_gif(name,sklt_pixels):\n",
    "    seq = [create_sklt(frame) for frame in sklt_pixels]\n",
    "    seq[0].save(name,save_all=True,append_images=seq[1:])"
   ]
  },
  {
   "cell_type": "code",
   "execution_count": 115,
   "id": "4f7d02c2",
   "metadata": {},
   "outputs": [],
   "source": [
    "create_gif('2d_skeleton_A015.gif',sklt_pixels)"
   ]
  },
  {
   "cell_type": "markdown",
   "id": "6bc1999f",
   "metadata": {},
   "source": [
    "### Test manual projection"
   ]
  },
  {
   "cell_type": "code",
   "execution_count": null,
   "id": "a3125007",
   "metadata": {},
   "outputs": [],
   "source": [
    "CameraToWorld = np.eye(4)\n",
    "Rot = R.from_euler(\"XYZ\",[0,0,0], degrees=True).as_matrix()\n",
    "# CameraToWorld[0,:] = [0.718762, 0.615033, -0.324214, 0]\n",
    "# CameraToWorld[1,:] = [-0.393732, 0.744416, 0.539277, 0]\n",
    "# CameraToWorld[2,:] = [0.573024, -0.259959, 0.777216, 0]\n",
    "# CameraToWorld[3,:] = [0.526967, 1.254234, -2.53215, 1]\n",
    "CameraToWorld[:3,:3] = Rot.copy()\n",
    "# CameraToWorld[:3,3] = np.array([skeleton[:,:,0].mean(),skeleton[:,:,1].mean(),skeleton[:,:,2].mean()+1])\n",
    "CameraToWorld[:3,3] = np.array([1,1,1])\n",
    "WorldToCamera = np.linalg.inv(CameraToWorld)"
   ]
  },
  {
   "cell_type": "code",
   "execution_count": null,
   "id": "6d54c564",
   "metadata": {},
   "outputs": [],
   "source": [
    "CameraToWorld"
   ]
  },
  {
   "cell_type": "code",
   "execution_count": null,
   "id": "736e5634",
   "metadata": {},
   "outputs": [],
   "source": [
    "s = np.append(skeleton[0,0],1)\n",
    "s = np.array([-0.5,0.5,0.5,1])\n",
    "print(s.reshape(4,1))\n",
    "res = np.matmul(CameraToWorld,np.matmul(WorldToCamera,s))\n",
    "res"
   ]
  },
  {
   "cell_type": "code",
   "execution_count": null,
   "id": "74f2d01d",
   "metadata": {},
   "outputs": [],
   "source": []
  },
  {
   "cell_type": "markdown",
   "id": "026ef6ce",
   "metadata": {},
   "source": [
    "## Create new dataset"
   ]
  },
  {
   "cell_type": "code",
   "execution_count": 13,
   "id": "d0cc722e",
   "metadata": {
    "scrolled": false
   },
   "outputs": [
    {
     "name": "stdout",
     "output_type": "stream",
     "text": [
      "C:\\Users\\Intel\\Documents\\@M2\\Idemia\\human-action-recognition\\data\n"
     ]
    }
   ],
   "source": [
    "# go to data dir\n",
    "cd .."
   ]
  },
  {
   "cell_type": "code",
   "execution_count": 23,
   "id": "227a2378",
   "metadata": {},
   "outputs": [],
   "source": [
    "# all the skeletons file names\n",
    "complete_set = set(os.listdir(\"nturgbd_skeletons_s001_to_s017/\"))"
   ]
  },
  {
   "cell_type": "code",
   "execution_count": 25,
   "id": "84bb6513",
   "metadata": {},
   "outputs": [],
   "source": [
    "# some files have missing skeletons or lead to issues\n",
    "with open(\"missing_skeletons.txt\", 'r') as missing_skeletons_file:\n",
    "    missing_set = set([file_name.replace('\\n','') + \".skeleton\" for file_name in missing_skeletons_file.readlines()])\n",
    "    missing_skeletons_file.close()\n",
    "with open(\"issue_skeletons.txt\", 'r') as issue_skeletons_file:\n",
    "    issue_set = set([file_name.replace('\\n','') + \".skeleton\" for file_name in issue_skeletons_file.readlines()])\n",
    "    issue_skeletons_file.close()\n",
    "\n",
    "\n",
    "# we discard the previous files from the complete set of files \n",
    "filtered_set = complete_set - missing_set - issue_set\n",
    "nb_files = len(filtered_set)\n",
    "\n",
    "# it is more convenient to manipulate lists for what follows\n",
    "complete_set = list(complete_set)\n",
    "missing_set = list(missing_set)\n",
    "issue_set = list(issue_set)\n",
    "filtered_set = list(filtered_set)"
   ]
  },
  {
   "cell_type": "code",
   "execution_count": 28,
   "id": "4e80e124",
   "metadata": {},
   "outputs": [],
   "source": [
    "# creation of the final folder for the data\n",
    "if \"nturgbd_pixel+depth\" not in os.listdir():\n",
    "    os.mkdir(\"nturgbd_pixel+depth/\")\n",
    "cleaned_set = os.listdir(\"nturgbd_pixel+depth/\")"
   ]
  },
  {
   "cell_type": "code",
   "execution_count": 37,
   "id": "3fc28840",
   "metadata": {},
   "outputs": [
    {
     "data": {
      "text/plain": [
       "'C:\\\\Users\\\\Intel\\\\Documents\\\\@M2\\\\Idemia\\\\human-action-recognition\\\\data'"
      ]
     },
     "execution_count": 37,
     "metadata": {},
     "output_type": "execute_result"
    }
   ],
   "source": [
    "pwd"
   ]
  },
  {
   "cell_type": "code",
   "execution_count": 51,
   "id": "9475de0e",
   "metadata": {
    "scrolled": true
   },
   "outputs": [
    {
     "name": "stderr",
     "output_type": "stream",
     "text": [
      "  3%|██▍                                                                          | 1416/44801 [00:48<24:36, 29.38it/s]\n"
     ]
    },
    {
     "ename": "ValueError",
     "evalue": "cannot convert float NaN to integer",
     "output_type": "error",
     "traceback": [
      "\u001b[1;31m---------------------------------------------------------------------------\u001b[0m",
      "\u001b[1;31mValueError\u001b[0m                                Traceback (most recent call last)",
      "Input \u001b[1;32mIn [51]\u001b[0m, in \u001b[0;36m<module>\u001b[1;34m\u001b[0m\n\u001b[0;32m      5\u001b[0m         skeleton \u001b[38;5;241m=\u001b[39m get_skeleton_info(\u001b[38;5;124m\"\u001b[39m\u001b[38;5;124mnturgbd_skeletons_s001_to_s017/\u001b[39m\u001b[38;5;124m\"\u001b[39m\u001b[38;5;241m+\u001b[39mfiltered_set[i])\n\u001b[0;32m      6\u001b[0m \u001b[38;5;66;03m#         sklt_pixels = get_pixels(skeleton)\u001b[39;00m\n\u001b[1;32m----> 7\u001b[0m         sklt_pixels \u001b[38;5;241m=\u001b[39m \u001b[43mnormalize_z\u001b[49m\u001b[43m(\u001b[49m\u001b[43mskeleton\u001b[49m\u001b[43m)\u001b[49m\n\u001b[0;32m      8\u001b[0m         \u001b[38;5;28;01mwith\u001b[39;00m \u001b[38;5;28mopen\u001b[39m(\u001b[38;5;124m\"\u001b[39m\u001b[38;5;124mnturgbd_pixel+depth/\u001b[39m\u001b[38;5;124m\"\u001b[39m \u001b[38;5;241m+\u001b[39m filtered_set[i]\u001b[38;5;241m.\u001b[39mreplace(\u001b[38;5;124m\"\u001b[39m\u001b[38;5;124m.skeleton\u001b[39m\u001b[38;5;124m\"\u001b[39m, \u001b[38;5;124m\"\u001b[39m\u001b[38;5;124m.npy\u001b[39m\u001b[38;5;124m\"\u001b[39m), \u001b[38;5;124m'\u001b[39m\u001b[38;5;124mwb\u001b[39m\u001b[38;5;124m'\u001b[39m) \u001b[38;5;28;01mas\u001b[39;00m cleaned_file:\n\u001b[0;32m      9\u001b[0m             np\u001b[38;5;241m.\u001b[39msave(cleaned_file, sklt_pixels)\n",
      "Input \u001b[1;32mIn [5]\u001b[0m, in \u001b[0;36mnormalize_z\u001b[1;34m(skeleton)\u001b[0m\n\u001b[0;32m     70\u001b[0m \u001b[38;5;28;01mdef\u001b[39;00m \u001b[38;5;21mnormalize_z\u001b[39m(skeleton):\n\u001b[1;32m---> 71\u001b[0m     sklt_pixels \u001b[38;5;241m=\u001b[39m \u001b[43mget_pixels\u001b[49m\u001b[43m(\u001b[49m\u001b[43mskeleton\u001b[49m\u001b[43m)\u001b[49m\n\u001b[0;32m     72\u001b[0m     mini \u001b[38;5;241m=\u001b[39m sklt_pixels[:,:,\u001b[38;5;241m2\u001b[39m]\u001b[38;5;241m.\u001b[39mmin()\n\u001b[0;32m     73\u001b[0m     maxi \u001b[38;5;241m=\u001b[39m sklt_pixels[:,:,\u001b[38;5;241m2\u001b[39m]\u001b[38;5;241m.\u001b[39mmax()\n",
      "Input \u001b[1;32mIn [5]\u001b[0m, in \u001b[0;36mget_pixels\u001b[1;34m(skeleton)\u001b[0m\n\u001b[0;32m     60\u001b[0m \u001b[38;5;28;01mfor\u001b[39;00m j, v \u001b[38;5;129;01min\u001b[39;00m \u001b[38;5;28menumerate\u001b[39m(b[\u001b[38;5;124m'\u001b[39m\u001b[38;5;124mjoint_info\u001b[39m\u001b[38;5;124m'\u001b[39m]):\n\u001b[0;32m     61\u001b[0m     \u001b[38;5;28;01mif\u001b[39;00m j \u001b[38;5;241m<\u001b[39m \u001b[38;5;241m25\u001b[39m:\n\u001b[1;32m---> 62\u001b[0m         data[n, j] \u001b[38;5;241m=\u001b[39m [\u001b[38;5;28;43mint\u001b[39;49m\u001b[43m(\u001b[49m\u001b[43mv\u001b[49m\u001b[43m[\u001b[49m\u001b[38;5;124;43m'\u001b[39;49m\u001b[38;5;124;43mcolorX\u001b[39;49m\u001b[38;5;124;43m'\u001b[39;49m\u001b[43m]\u001b[49m\u001b[43m)\u001b[49m, \u001b[38;5;28mint\u001b[39m(v[\u001b[38;5;124m'\u001b[39m\u001b[38;5;124mcolorY\u001b[39m\u001b[38;5;124m'\u001b[39m]), v[\u001b[38;5;124m'\u001b[39m\u001b[38;5;124mz\u001b[39m\u001b[38;5;124m'\u001b[39m]]\n\u001b[0;32m     63\u001b[0m     \u001b[38;5;28;01melse\u001b[39;00m:\n\u001b[0;32m     64\u001b[0m         \u001b[38;5;28;01mpass\u001b[39;00m\n",
      "\u001b[1;31mValueError\u001b[0m: cannot convert float NaN to integer"
     ]
    }
   ],
   "source": [
    "# we now process to the cleaning of the files in the filtered set\n",
    "for i in tqdm(range(nb_files)):\n",
    "\n",
    "    if filtered_set[i].replace(\".skeleton\", \".npy\") not in cleaned_set:\n",
    "        skeleton = get_skeleton_info(\"nturgbd_skeletons_s001_to_s017/\"+filtered_set[i])\n",
    "#         sklt_pixels = get_pixels(skeleton)\n",
    "        sklt_pixels = normalize_z(skeleton)\n",
    "        with open(\"nturgbd_pixel+depth/\" + filtered_set[i].replace(\".skeleton\", \".npy\"), 'wb') as cleaned_file:\n",
    "            np.save(cleaned_file, sklt_pixels)\n",
    "            cleaned_file.close()"
   ]
  },
  {
   "cell_type": "markdown",
   "id": "9a92b6c9",
   "metadata": {},
   "source": [
    "#### Test reading file"
   ]
  },
  {
   "cell_type": "code",
   "execution_count": 47,
   "id": "54ac3551",
   "metadata": {},
   "outputs": [],
   "source": [
    "data = np.load(\"nturgbd_pixel+depth/S002C001P012R002A006.npy\")"
   ]
  },
  {
   "cell_type": "code",
   "execution_count": 50,
   "id": "ada1b7e8",
   "metadata": {},
   "outputs": [
    {
     "data": {
      "text/plain": [
       "array([[[9.22000000e+02, 6.39000000e+02, 6.16609238e-01],\n",
       "        [9.10000000e+02, 5.36000000e+02, 5.34530937e-01],\n",
       "        [8.98000000e+02, 4.27000000e+02, 4.41468780e-01],\n",
       "        ...,\n",
       "        [8.75000000e+02, 6.76000000e+02, 4.48862329e-01],\n",
       "        [9.51000000e+02, 6.73000000e+02, 6.31988458e-01],\n",
       "        [9.56000000e+02, 6.61000000e+02, 6.12754755e-01]],\n",
       "\n",
       "       [[9.22000000e+02, 6.39000000e+02, 6.17767292e-01],\n",
       "        [9.10000000e+02, 5.35000000e+02, 5.35545515e-01],\n",
       "        [8.98000000e+02, 4.27000000e+02, 4.42164523e-01],\n",
       "        ...,\n",
       "        [8.75000000e+02, 6.77000000e+02, 4.51629359e-01],\n",
       "        [9.51000000e+02, 6.73000000e+02, 6.31585360e-01],\n",
       "        [9.56000000e+02, 6.59000000e+02, 5.96127525e-01]],\n",
       "\n",
       "       [[9.22000000e+02, 6.39000000e+02, 6.18317282e-01],\n",
       "        [9.10000000e+02, 5.35000000e+02, 5.35987329e-01],\n",
       "        [8.98000000e+02, 4.27000000e+02, 4.42413898e-01],\n",
       "        ...,\n",
       "        [8.76000000e+02, 6.79000000e+02, 4.50894901e-01],\n",
       "        [9.51000000e+02, 6.73000000e+02, 6.27205938e-01],\n",
       "        [9.56000000e+02, 6.60000000e+02, 6.03943530e-01]],\n",
       "\n",
       "       ...,\n",
       "\n",
       "       [[9.19000000e+02, 6.38000000e+02, 5.85818916e-01],\n",
       "        [9.14000000e+02, 5.39000000e+02, 4.92404902e-01],\n",
       "        [9.04000000e+02, 4.32000000e+02, 3.87931879e-01],\n",
       "        ...,\n",
       "        [9.54000000e+02, 6.88000000e+02, 3.30040606e-01],\n",
       "        [1.01000000e+03, 6.48000000e+02, 4.50806082e-01],\n",
       "        [9.99000000e+02, 6.42000000e+02, 4.82080351e-01]],\n",
       "\n",
       "       [[9.18000000e+02, 6.40000000e+02, 5.79323797e-01],\n",
       "        [9.13000000e+02, 5.39000000e+02, 4.91310616e-01],\n",
       "        [9.04000000e+02, 4.32000000e+02, 3.88941901e-01],\n",
       "        ...,\n",
       "        [9.64000000e+02, 6.78000000e+02, 3.32756394e-01],\n",
       "        [1.00700000e+03, 6.40000000e+02, 4.46258133e-01],\n",
       "        [9.99000000e+02, 6.34000000e+02, 4.73746239e-01]],\n",
       "\n",
       "       [[9.18000000e+02, 6.40000000e+02, 5.77140918e-01],\n",
       "        [9.12000000e+02, 5.38000000e+02, 4.92176024e-01],\n",
       "        [9.01000000e+02, 4.29000000e+02, 3.99589842e-01],\n",
       "        ...,\n",
       "        [9.69000000e+02, 6.66000000e+02, 3.32595838e-01],\n",
       "        [1.00300000e+03, 6.62000000e+02, 3.81333139e-01],\n",
       "        [9.97000000e+02, 6.35000000e+02, 4.21337785e-01]]])"
      ]
     },
     "execution_count": 50,
     "metadata": {},
     "output_type": "execute_result"
    }
   ],
   "source": [
    "data"
   ]
  },
  {
   "cell_type": "code",
   "execution_count": null,
   "id": "ae2d8c23",
   "metadata": {},
   "outputs": [],
   "source": []
  }
 ],
 "metadata": {
  "kernelspec": {
   "display_name": "Python 3 (ipykernel)",
   "language": "python",
   "name": "python3"
  },
  "language_info": {
   "codemirror_mode": {
    "name": "ipython",
    "version": 3
   },
   "file_extension": ".py",
   "mimetype": "text/x-python",
   "name": "python",
   "nbconvert_exporter": "python",
   "pygments_lexer": "ipython3",
   "version": "3.9.5"
  }
 },
 "nbformat": 4,
 "nbformat_minor": 5
}
